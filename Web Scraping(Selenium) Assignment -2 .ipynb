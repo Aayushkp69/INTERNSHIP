{
 "cells": [
  {
   "cell_type": "code",
   "execution_count": 1,
   "id": "4e94cf4e",
   "metadata": {},
   "outputs": [],
   "source": [
    "#importing Necessary Libararies\n",
    "import pandas as pd\n",
    "import numpy as np\n",
    "import selenium\n",
    "from selenium import webdriver\n",
    "from selenium.webdriver.common.by import By \n",
    "import time\n",
    "import warnings\n",
    "warnings.filterwarnings('ignore')"
   ]
  },
  {
   "cell_type": "markdown",
   "id": "841f9f73",
   "metadata": {},
   "source": [
    "# Q1: In this question you have to scrape data using the filters available on the webpage You have to use the location and salary filter."
   ]
  },
  {
   "cell_type": "code",
   "execution_count": 12,
   "id": "1007092e",
   "metadata": {},
   "outputs": [],
   "source": [
    "driver=webdriver.Chrome()"
   ]
  },
  {
   "cell_type": "code",
   "execution_count": 13,
   "id": "d1e992ed",
   "metadata": {},
   "outputs": [],
   "source": [
    "#get the website\n",
    "driver.get('https://www.naukri.com/')"
   ]
  },
  {
   "cell_type": "code",
   "execution_count": 15,
   "id": "713eb1d2",
   "metadata": {},
   "outputs": [],
   "source": [
    "# filling Job title - Data Scientist\n",
    "designation=driver.find_element(By.CLASS_NAME,\"suggestor-input \")\n",
    "designation.send_keys('Data Scientist')"
   ]
  },
  {
   "cell_type": "code",
   "execution_count": 18,
   "id": "95567f66",
   "metadata": {},
   "outputs": [],
   "source": [
    "# Click Search  \n",
    "search=driver.find_element(By.CLASS_NAME,\"qsbSubmit\")\n",
    "search.click()"
   ]
  },
  {
   "cell_type": "code",
   "execution_count": 24,
   "id": "63930171",
   "metadata": {},
   "outputs": [],
   "source": [
    "# filter\n",
    "Delhi_NCR=driver.find_element(By.XPATH,'/html/body/div/div/main/div[1]/div[1]/div/div/div[2]/div[2]/div[2]/div[2]/label/p/span[1]').click()"
   ]
  },
  {
   "cell_type": "code",
   "execution_count": 26,
   "id": "d9b9e026",
   "metadata": {},
   "outputs": [],
   "source": [
    "Salary_Filter=driver.find_element(By.XPATH,'/html/body/div/div/main/div[1]/div[1]/div/div/div[2]/div[2]/div[2]/div[2]/label/p/span[1]').click()"
   ]
  },
  {
   "cell_type": "code",
   "execution_count": 28,
   "id": "5febf1b2",
   "metadata": {},
   "outputs": [],
   "source": [
    "job_title=[]\n",
    "job_location=[]\n",
    "company_name=[]\n",
    "experience_required=[]\n",
    "\n",
    "title_tags=driver.find_elements(By.XPATH,'//a[@class=\"title \"]')\n",
    "for i in title_tags:\n",
    "    title=i.text\n",
    "    job_title.append(title)\n",
    "\n",
    "loc_tags=driver.find_elements(By.XPATH,'//span[@class=\"loc-wrap ver-line\"]')\n",
    "for i in loc_tags:\n",
    "    location=i.text\n",
    "    job_location.append(location)\n",
    "\n",
    "comp_tags=driver.find_elements(By.XPATH,'//div[@class=\" row2\"]')\n",
    "for i in comp_tags:\n",
    "    company=i.text\n",
    "    company_name.append(company)\n",
    "\n",
    "exp_tags=driver.find_elements(By.XPATH,'//span[@class=\"exp-wrap\"]')\n",
    "for i in exp_tags:\n",
    "    experience=i.text\n",
    "    experience_required.append(experience)\n",
    "    "
   ]
  },
  {
   "cell_type": "code",
   "execution_count": 29,
   "id": "4a45b162",
   "metadata": {},
   "outputs": [
    {
     "name": "stdout",
     "output_type": "stream",
     "text": [
      "25 25 25 25\n"
     ]
    }
   ],
   "source": [
    "print(len(job_title),len(job_location),len(company_name),len(experience_required))"
   ]
  },
  {
   "cell_type": "code",
   "execution_count": 33,
   "id": "96dee84c",
   "metadata": {},
   "outputs": [
    {
     "data": {
      "text/html": [
       "<div>\n",
       "<style scoped>\n",
       "    .dataframe tbody tr th:only-of-type {\n",
       "        vertical-align: middle;\n",
       "    }\n",
       "\n",
       "    .dataframe tbody tr th {\n",
       "        vertical-align: top;\n",
       "    }\n",
       "\n",
       "    .dataframe thead th {\n",
       "        text-align: right;\n",
       "    }\n",
       "</style>\n",
       "<table border=\"1\" class=\"dataframe\">\n",
       "  <thead>\n",
       "    <tr style=\"text-align: right;\">\n",
       "      <th></th>\n",
       "      <th>Job Titles</th>\n",
       "      <th>Locations</th>\n",
       "      <th>Comapany Names</th>\n",
       "      <th>Experiences</th>\n",
       "    </tr>\n",
       "  </thead>\n",
       "  <tbody>\n",
       "    <tr>\n",
       "      <th>0</th>\n",
       "      <td>Data Scientist (AI/ML)|| US Based MNC || Noida</td>\n",
       "      <td>Hybrid - Noida</td>\n",
       "      <td>US based Software Company\\nPosted by Bean Hr C...</td>\n",
       "      <td>3-5 Yrs</td>\n",
       "    </tr>\n",
       "    <tr>\n",
       "      <th>1</th>\n",
       "      <td>Data Scientist</td>\n",
       "      <td>Ghaziabad</td>\n",
       "      <td>Biz Tech Consultants\\n3.5\\n3 Reviews</td>\n",
       "      <td>3-8 Yrs</td>\n",
       "    </tr>\n",
       "    <tr>\n",
       "      <th>2</th>\n",
       "      <td>Data Scientist: Artificial Intelligence</td>\n",
       "      <td>Gurugram</td>\n",
       "      <td>IBM\\n4.1\\n20413 Reviews</td>\n",
       "      <td>3-7 Yrs</td>\n",
       "    </tr>\n",
       "    <tr>\n",
       "      <th>3</th>\n",
       "      <td>Data Analyst</td>\n",
       "      <td>Delhi / NCR</td>\n",
       "      <td>InsurTech Unicorn</td>\n",
       "      <td>1-4 Yrs</td>\n",
       "    </tr>\n",
       "    <tr>\n",
       "      <th>4</th>\n",
       "      <td>Data Analyst</td>\n",
       "      <td></td>\n",
       "      <td>E-Commerce Unicorn</td>\n",
       "      <td>1-4 Yrs</td>\n",
       "    </tr>\n",
       "    <tr>\n",
       "      <th>5</th>\n",
       "      <td></td>\n",
       "      <td></td>\n",
       "      <td></td>\n",
       "      <td></td>\n",
       "    </tr>\n",
       "    <tr>\n",
       "      <th>6</th>\n",
       "      <td></td>\n",
       "      <td></td>\n",
       "      <td></td>\n",
       "      <td></td>\n",
       "    </tr>\n",
       "    <tr>\n",
       "      <th>7</th>\n",
       "      <td></td>\n",
       "      <td></td>\n",
       "      <td></td>\n",
       "      <td></td>\n",
       "    </tr>\n",
       "    <tr>\n",
       "      <th>8</th>\n",
       "      <td>Data Analyst &amp; Data Scientist</td>\n",
       "      <td>Gurugram</td>\n",
       "      <td>Varuna Integrated Logistics\\n3.7\\n360 Reviews</td>\n",
       "      <td>3-8 Yrs</td>\n",
       "    </tr>\n",
       "    <tr>\n",
       "      <th>9</th>\n",
       "      <td>Data Scientist</td>\n",
       "      <td>Gurugram</td>\n",
       "      <td>Collegedunia\\n2.9\\n505 Reviews</td>\n",
       "      <td>0-2 Yrs</td>\n",
       "    </tr>\n",
       "  </tbody>\n",
       "</table>\n",
       "</div>"
      ],
      "text/plain": [
       "                                       Job Titles       Locations  \\\n",
       "0  Data Scientist (AI/ML)|| US Based MNC || Noida  Hybrid - Noida   \n",
       "1                                  Data Scientist       Ghaziabad   \n",
       "2         Data Scientist: Artificial Intelligence        Gurugram   \n",
       "3                                    Data Analyst     Delhi / NCR   \n",
       "4                                    Data Analyst                   \n",
       "5                                                                   \n",
       "6                                                                   \n",
       "7                                                                   \n",
       "8                   Data Analyst & Data Scientist        Gurugram   \n",
       "9                                  Data Scientist        Gurugram   \n",
       "\n",
       "                                      Comapany Names Experiences  \n",
       "0  US based Software Company\\nPosted by Bean Hr C...     3-5 Yrs  \n",
       "1               Biz Tech Consultants\\n3.5\\n3 Reviews     3-8 Yrs  \n",
       "2                            IBM\\n4.1\\n20413 Reviews     3-7 Yrs  \n",
       "3                                  InsurTech Unicorn     1-4 Yrs  \n",
       "4                                 E-Commerce Unicorn     1-4 Yrs  \n",
       "5                                                                 \n",
       "6                                                                 \n",
       "7                                                                 \n",
       "8      Varuna Integrated Logistics\\n3.7\\n360 Reviews     3-8 Yrs  \n",
       "9                     Collegedunia\\n2.9\\n505 Reviews     0-2 Yrs  "
      ]
     },
     "execution_count": 33,
     "metadata": {},
     "output_type": "execute_result"
    }
   ],
   "source": [
    "Naukri_dot_com=pd.DataFrame({'Job Titles':job_title,'Locations':job_location,'Comapany Names':company_name,'Experiences':experience_required})\n",
    "Naukri_dot_com.head(10)"
   ]
  },
  {
   "cell_type": "markdown",
   "id": "d67f38cf",
   "metadata": {},
   "source": [
    "# Q2: Write a python program to scrape data for “Data Scientist” Job position in “Bangalore” location. You have to scrape the job-title, job-location, company_name, experience_required. You have to scrape first 10 jobs data."
   ]
  },
  {
   "cell_type": "code",
   "execution_count": 2,
   "id": "b89ffb13",
   "metadata": {},
   "outputs": [],
   "source": [
    "driver=webdriver.Chrome()"
   ]
  },
  {
   "cell_type": "code",
   "execution_count": 3,
   "id": "f81bfef4",
   "metadata": {},
   "outputs": [],
   "source": [
    "driver.get('https://www.shine.com/')"
   ]
  },
  {
   "cell_type": "code",
   "execution_count": 4,
   "id": "b8ab18df",
   "metadata": {},
   "outputs": [],
   "source": [
    "job=driver.find_element(By.CLASS_NAME,\"form-control  \")\n",
    "job.send_keys('Data Scientitst')\n",
    "\n",
    "loc= driver.find_element(By.XPATH,'/html/body/div/div[4]/div/div[2]/div[2]/div/form/div/div[1]/ul/li[2]/div/input')\n",
    "loc.send_keys('Bengaluru')"
   ]
  },
  {
   "cell_type": "code",
   "execution_count": 8,
   "id": "67db99fa",
   "metadata": {},
   "outputs": [],
   "source": [
    "search=driver.find_element(By.CLASS_NAME,\"searchForm_btnWrap_advance__VYBHN\")\n",
    "search.click()"
   ]
  },
  {
   "cell_type": "code",
   "execution_count": 9,
   "id": "4dd900fb",
   "metadata": {},
   "outputs": [],
   "source": [
    "# first 10 jobs \n",
    "job_title=[]\n",
    "job_location=[]\n",
    "company_name=[]\n",
    "experience_required=[]\n",
    "\n",
    "title_tags=driver.find_elements(By.XPATH,'//strong[@class=\"jobCard_pReplaceH2__xWmHg\"]')\n",
    "for i in title_tags:\n",
    "    title=i.text\n",
    "    job_title.append(title)\n",
    "\n",
    "loc_tags=driver.find_elements(By.XPATH,'//div[@class=\"jobCard_jobCard_lists_item__YxRkV jobCard_locationIcon__zrWt2\"]')\n",
    "for i in loc_tags:\n",
    "    location=i.text\n",
    "    job_location.append(location)\n",
    "\n",
    "comp_tags=driver.find_elements(By.XPATH,'//div[@class=\"jobCard_jobCard_cName__mYnow\"]')\n",
    "for i in comp_tags:\n",
    "    company=i.text\n",
    "    company_name.append(company)\n",
    "\n",
    "exp_tags=driver.find_elements(By.XPATH,'//div[@class=\" jobCard_jobCard_lists_item__YxRkV jobCard_jobIcon__3FB1t\"]')\n",
    "for i in exp_tags:\n",
    "    experience=i.text\n",
    "    experience_required.append(experience)\n",
    "    "
   ]
  },
  {
   "cell_type": "code",
   "execution_count": 10,
   "id": "b59e8197",
   "metadata": {},
   "outputs": [
    {
     "name": "stdout",
     "output_type": "stream",
     "text": [
      "20 20 20 20\n"
     ]
    }
   ],
   "source": [
    "print(len(job_title),len(job_location),len(company_name),len(experience_required))"
   ]
  },
  {
   "cell_type": "code",
   "execution_count": 12,
   "id": "ef10a170",
   "metadata": {},
   "outputs": [
    {
     "data": {
      "text/html": [
       "<div>\n",
       "<style scoped>\n",
       "    .dataframe tbody tr th:only-of-type {\n",
       "        vertical-align: middle;\n",
       "    }\n",
       "\n",
       "    .dataframe tbody tr th {\n",
       "        vertical-align: top;\n",
       "    }\n",
       "\n",
       "    .dataframe thead th {\n",
       "        text-align: right;\n",
       "    }\n",
       "</style>\n",
       "<table border=\"1\" class=\"dataframe\">\n",
       "  <thead>\n",
       "    <tr style=\"text-align: right;\">\n",
       "      <th></th>\n",
       "      <th>Job Titles</th>\n",
       "      <th>Locations</th>\n",
       "      <th>Comapany Names</th>\n",
       "      <th>Experiences</th>\n",
       "    </tr>\n",
       "  </thead>\n",
       "  <tbody>\n",
       "    <tr>\n",
       "      <th>0</th>\n",
       "      <td>Data Entry Officer</td>\n",
       "      <td>Bangalore\\n+9</td>\n",
       "      <td>v-tech data outsourcing</td>\n",
       "      <td>0 to 1 Yr</td>\n",
       "    </tr>\n",
       "    <tr>\n",
       "      <th>1</th>\n",
       "      <td>Data Operator</td>\n",
       "      <td>Bangalore\\n+9</td>\n",
       "      <td>v-tech data outsourcing</td>\n",
       "      <td>0 to 1 Yr</td>\n",
       "    </tr>\n",
       "    <tr>\n",
       "      <th>2</th>\n",
       "      <td>Data Entry Operator</td>\n",
       "      <td>Bangalore\\n+9</td>\n",
       "      <td>v-tech data outsourcing</td>\n",
       "      <td>0 to 1 Yr</td>\n",
       "    </tr>\n",
       "    <tr>\n",
       "      <th>3</th>\n",
       "      <td>Data Entry Officer</td>\n",
       "      <td>Bangalore\\n+9</td>\n",
       "      <td>v-tech data outsourcing</td>\n",
       "      <td>0 to 1 Yr</td>\n",
       "    </tr>\n",
       "    <tr>\n",
       "      <th>4</th>\n",
       "      <td>Data Operator</td>\n",
       "      <td>Bangalore\\n+9</td>\n",
       "      <td>v-tech data outsourcing</td>\n",
       "      <td>0 to 1 Yr</td>\n",
       "    </tr>\n",
       "    <tr>\n",
       "      <th>5</th>\n",
       "      <td>Data Operator</td>\n",
       "      <td>Bangalore\\n+9</td>\n",
       "      <td>v-tech data outsourcing</td>\n",
       "      <td>0 to 1 Yr</td>\n",
       "    </tr>\n",
       "    <tr>\n",
       "      <th>6</th>\n",
       "      <td>Data Operator</td>\n",
       "      <td>Bangalore\\n+9</td>\n",
       "      <td>v-tech data outsourcing</td>\n",
       "      <td>0 to 1 Yr</td>\n",
       "    </tr>\n",
       "    <tr>\n",
       "      <th>7</th>\n",
       "      <td>Data Entry Executive</td>\n",
       "      <td>Bangalore\\n+9</td>\n",
       "      <td>v-tech data outsourcing</td>\n",
       "      <td>0 to 1 Yr</td>\n",
       "    </tr>\n",
       "    <tr>\n",
       "      <th>8</th>\n",
       "      <td>Data Operator</td>\n",
       "      <td>Bangalore\\n+9</td>\n",
       "      <td>v-tech data outsourcing</td>\n",
       "      <td>0 to 1 Yr</td>\n",
       "    </tr>\n",
       "    <tr>\n",
       "      <th>9</th>\n",
       "      <td>Data Entry Officer</td>\n",
       "      <td>Bangalore\\n+9</td>\n",
       "      <td>v-tech data outsourcing</td>\n",
       "      <td>0 to 1 Yr</td>\n",
       "    </tr>\n",
       "  </tbody>\n",
       "</table>\n",
       "</div>"
      ],
      "text/plain": [
       "             Job Titles      Locations           Comapany Names Experiences\n",
       "0    Data Entry Officer  Bangalore\\n+9  v-tech data outsourcing   0 to 1 Yr\n",
       "1         Data Operator  Bangalore\\n+9  v-tech data outsourcing   0 to 1 Yr\n",
       "2   Data Entry Operator  Bangalore\\n+9  v-tech data outsourcing   0 to 1 Yr\n",
       "3    Data Entry Officer  Bangalore\\n+9  v-tech data outsourcing   0 to 1 Yr\n",
       "4         Data Operator  Bangalore\\n+9  v-tech data outsourcing   0 to 1 Yr\n",
       "5         Data Operator  Bangalore\\n+9  v-tech data outsourcing   0 to 1 Yr\n",
       "6         Data Operator  Bangalore\\n+9  v-tech data outsourcing   0 to 1 Yr\n",
       "7  Data Entry Executive  Bangalore\\n+9  v-tech data outsourcing   0 to 1 Yr\n",
       "8         Data Operator  Bangalore\\n+9  v-tech data outsourcing   0 to 1 Yr\n",
       "9    Data Entry Officer  Bangalore\\n+9  v-tech data outsourcing   0 to 1 Yr"
      ]
     },
     "execution_count": 12,
     "metadata": {},
     "output_type": "execute_result"
    }
   ],
   "source": [
    "#DataFrame\n",
    "Shine_dot_com=pd.DataFrame({'Job Titles':job_title,'Locations':job_location,'Comapany Names':company_name,'Experiences':experience_required})\n",
    "Shine_dot_com.head(10)"
   ]
  },
  {
   "cell_type": "markdown",
   "id": "0181ee0d",
   "metadata": {},
   "source": [
    "# Q3: Scrape 100 reviews data from flipkart.com for iphone11 phone. You have to go the link:"
   ]
  },
  {
   "cell_type": "code",
   "execution_count": 2,
   "id": "8cd7bf46",
   "metadata": {},
   "outputs": [],
   "source": [
    "driver=webdriver.Chrome()"
   ]
  },
  {
   "cell_type": "code",
   "execution_count": 3,
   "id": "81592cdf",
   "metadata": {
    "scrolled": true
   },
   "outputs": [],
   "source": [
    "driver.get(\"https://www.flipkart.com/apple-iphone-11-black-64-gb/product-reviews/itm4e5041ba101fd?pid=MOBFWQ6BXGJCEYNY&lid=LSTMOBFWQ6BXGJCEYNYZXSHRJ&marketplace=FLIPKART\")"
   ]
  },
  {
   "cell_type": "code",
   "execution_count": 24,
   "id": "7661150b",
   "metadata": {},
   "outputs": [],
   "source": [
    "#ratings\n",
    "rating=[]\n",
    "start=0\n",
    "end=10\n",
    "for page in range(start,end):\n",
    "    rates=driver.find_elements(By.XPATH,'//div[@class=\"XQDdHH Ga3i8K\"]')\n",
    "    for i in rates:\n",
    "        rating.append(i.text)\n",
    "    next_button=driver.find_elements(By.XPATH,'/html/body/div/div/div[3]/div/div/div[2]/div[3]/div/div/div/div[1]/div')\n",
    "    if next_button:\n",
    "        next_button[0].click()\n",
    "    time.sleep(10)"
   ]
  },
  {
   "cell_type": "code",
   "execution_count": 25,
   "id": "c88993d6",
   "metadata": {},
   "outputs": [
    {
     "name": "stdout",
     "output_type": "stream",
     "text": [
      "100\n"
     ]
    }
   ],
   "source": [
    "print(len(rating))"
   ]
  },
  {
   "cell_type": "code",
   "execution_count": 4,
   "id": "e0161042",
   "metadata": {},
   "outputs": [],
   "source": [
    "# Review summary\n",
    "summary=[]\n",
    "start=0\n",
    "end=10\n",
    "for page in range(start,end):\n",
    "    summ=driver.find_elements(By.XPATH,'//p[@class=\"z9E0IG\"]')\n",
    "    for i in summ:\n",
    "        summary.append(i.text)\n",
    "    next_button=driver.find_elements(By.XPATH,'/html/body/div/div/div[3]/div/div[1]/div[2]/div[3]/div/div/div/div[1]/p')\n",
    "    if next_button:\n",
    "        next_button[0].click()\n",
    "    time.sleep(10)"
   ]
  },
  {
   "cell_type": "code",
   "execution_count": 5,
   "id": "5750997e",
   "metadata": {},
   "outputs": [
    {
     "name": "stdout",
     "output_type": "stream",
     "text": [
      "100\n"
     ]
    }
   ],
   "source": [
    "print(len(summary))"
   ]
  },
  {
   "cell_type": "code",
   "execution_count": 6,
   "id": "b322fb0c",
   "metadata": {},
   "outputs": [],
   "source": [
    "# Full review\n",
    "full_rev=[]\n",
    "start=0\n",
    "end=10\n",
    "for page in range(start,end):\n",
    "    full=driver.find_elements(By.XPATH,'//div[@class=\"ZmyHeo\"]')\n",
    "    for i in full:\n",
    "        full_rev.append(i.text)\n",
    "    next_button=driver.find_elements(By.XPATH,'/html/body/div/div/div[3]/div/div/div[2]/div[3]/div/div/div/div[2]/div')\n",
    "    if next_button:\n",
    "        next_button[0].click()\n",
    "    time.sleep(10)"
   ]
  },
  {
   "cell_type": "code",
   "execution_count": 7,
   "id": "9f23d29a",
   "metadata": {},
   "outputs": [
    {
     "name": "stdout",
     "output_type": "stream",
     "text": [
      "100\n"
     ]
    }
   ],
   "source": [
    "print(len(full_rev))"
   ]
  },
  {
   "cell_type": "markdown",
   "id": "104a1105",
   "metadata": {},
   "source": [
    "# Q4: Scrape data forfirst 100 sneakers you find whenyouvisitflipkart.com and search for “sneakers” inthe search field."
   ]
  },
  {
   "cell_type": "code",
   "execution_count": 20,
   "id": "f77d8aad",
   "metadata": {},
   "outputs": [],
   "source": [
    "driver=webdriver.Chrome()"
   ]
  },
  {
   "cell_type": "code",
   "execution_count": 24,
   "id": "b46ca3e3",
   "metadata": {},
   "outputs": [],
   "source": [
    "driver.get(\"\"\"https://www.flipkart.com/apple-iphone-11-black-64-gb/product-\n",
    "reviews/itm4e5041ba101fd?pid=MOBFWQ6BXGJCEYNY&lid=LSTMOBFWQ6BXGJCEYNYZXSHRJ&marketplace=F\n",
    "\n",
    "LIPKART\"\"\")"
   ]
  },
  {
   "cell_type": "code",
   "execution_count": 25,
   "id": "e8f2d4e5",
   "metadata": {},
   "outputs": [],
   "source": [
    "sneakers=driver.find_element(By.CLASS_NAME,\"zDPmFV\")\n",
    "sneakers.send_keys('Sneakers')"
   ]
  },
  {
   "cell_type": "code",
   "execution_count": 26,
   "id": "29d6c246",
   "metadata": {},
   "outputs": [],
   "source": [
    "search=driver.find_element(By.CLASS_NAME,\"MJG8Up\")\n",
    "search.click()"
   ]
  },
  {
   "cell_type": "code",
   "execution_count": 31,
   "id": "f5758525",
   "metadata": {},
   "outputs": [],
   "source": [
    "assured=driver.find_element(By.XPATH,'/html/body/div/div/div[3]/div[1]/div[1]/div/div/div/section[3]/label/div[2]')\n",
    "assured.click()"
   ]
  },
  {
   "cell_type": "code",
   "execution_count": 32,
   "id": "239c15fc",
   "metadata": {},
   "outputs": [],
   "source": [
    "# Brand\n",
    "brand=[]\n",
    "start=0\n",
    "end=3\n",
    "for page in range(start,end):\n",
    "    b=driver.find_elements(By.XPATH,'//div[@class=\"syl9yP\"]')\n",
    "    for i in b:\n",
    "        brand.append(i.text)\n",
    "    next_button=driver.find_element(By.XPATH,'/html/body/div/div/div[3]/div/div[2]/div[2]/div/div[1]/div/div/div[2]')\n",
    "    next_button.click()\n",
    "    time.sleep(3)"
   ]
  },
  {
   "cell_type": "code",
   "execution_count": 33,
   "id": "29bf31f2",
   "metadata": {},
   "outputs": [
    {
     "name": "stdout",
     "output_type": "stream",
     "text": [
      "100\n"
     ]
    }
   ],
   "source": [
    "print(len(brand[:100]))"
   ]
  },
  {
   "cell_type": "code",
   "execution_count": 36,
   "id": "1a241342",
   "metadata": {},
   "outputs": [],
   "source": [
    "# Product description\n",
    "product=[]\n",
    "start=0\n",
    "end=3\n",
    "for page in range(start,end):\n",
    "    p=driver.find_elements(By.XPATH,'//a[@class=\"WKTcLC\"]')\n",
    "    for i in p:\n",
    "        product.append(i.text)\n",
    "    next_button=driver.find_element(By.XPATH,'/html/body/div/div/div[3]/div/div[2]/div[2]/div/div[1]/div/div/a[1]')\n",
    "    next_button.click()\n",
    "    time.sleep(3)"
   ]
  },
  {
   "cell_type": "code",
   "execution_count": 38,
   "id": "f4f95632",
   "metadata": {},
   "outputs": [
    {
     "name": "stdout",
     "output_type": "stream",
     "text": [
      "100\n"
     ]
    }
   ],
   "source": [
    "print(len(product[:100]))"
   ]
  },
  {
   "cell_type": "code",
   "execution_count": 39,
   "id": "e1b2d5df",
   "metadata": {},
   "outputs": [],
   "source": [
    "# Price\n",
    "Price=[]\n",
    "start=0\n",
    "end=3\n",
    "for page in range(start,end):\n",
    "    Prices=driver.find_elements(By.XPATH,'//div[@class=\"Nx9bqj\"]')\n",
    "    for i in Prices:\n",
    "        Price.append(i.text)\n",
    "    next_button=driver.find_element(By.XPATH,'/html/body/div/div/div[3]/div/div[2]/div[2]/div/div[1]/div/div/a[2]/div/div[1]')\n",
    "    next_button.click()\n",
    "    time.sleep(3)"
   ]
  },
  {
   "cell_type": "code",
   "execution_count": 40,
   "id": "735f9340",
   "metadata": {},
   "outputs": [
    {
     "name": "stdout",
     "output_type": "stream",
     "text": [
      "100\n"
     ]
    }
   ],
   "source": [
    "print(len(Price[:100]))"
   ]
  },
  {
   "cell_type": "markdown",
   "id": "e69523ce",
   "metadata": {},
   "source": [
    "# Q5: Go to webpage https://www.amazon.in/ Enter “Laptop” in the search field and then click the search icon. Then set CPU Type filter to “Intel Core i7” as shown in the below image:"
   ]
  },
  {
   "cell_type": "code",
   "execution_count": 50,
   "id": "a655e966",
   "metadata": {},
   "outputs": [],
   "source": [
    "#web driver\n",
    "driver=webdriver.Chrome()"
   ]
  },
  {
   "cell_type": "code",
   "execution_count": 51,
   "id": "12052fd2",
   "metadata": {},
   "outputs": [],
   "source": [
    "#opening the webside for scrape\n",
    "driver.get('https://www.amazon.in/')"
   ]
  },
  {
   "cell_type": "code",
   "execution_count": 64,
   "id": "c51ddb99",
   "metadata": {},
   "outputs": [],
   "source": [
    "Lap=driver.find_element(By.XPATH,'//input[@type=\"text\"]')\n",
    "Lap.send_keys(\"Laptop\")"
   ]
  },
  {
   "cell_type": "code",
   "execution_count": 66,
   "id": "3582bb5f",
   "metadata": {},
   "outputs": [],
   "source": [
    "search=driver.find_element(By.XPATH,'/html/body/div[1]/header/div/div[1]/div[2]/div/form/div[3]/div/span/input')\n",
    "search.click()"
   ]
  },
  {
   "cell_type": "code",
   "execution_count": 67,
   "id": "9d4c7a8a",
   "metadata": {},
   "outputs": [],
   "source": [
    "intel=driver.find_element(By.XPATH,'/html/body/div[1]/div[1]/div[1]/div[2]/div/div[3]/span/div[1]/span/div/div/div[6]/ul[2]/span/span[8]/li/span/a')\n",
    "intel.click()"
   ]
  },
  {
   "cell_type": "code",
   "execution_count": 79,
   "id": "0da70d60",
   "metadata": {},
   "outputs": [],
   "source": [
    "# title\n",
    "title=[]\n",
    "title_tags=driver.find_elements(By.XPATH,'//span[@class=\"a-size-medium a-color-base a-text-normal\"]')\n",
    "for i in title_tags:\n",
    "    titles=i.text\n",
    "    title.append(titles)\n",
    "\n",
    "rating=[]\n",
    "rating_tags=driver.find_elements(By.XPATH,'//span[@class=\"a-size-base s-underline-text\"]')\n",
    "for i in rating_tags:\n",
    "    rate=i.text\n",
    "    rating.append(rate)\n",
    "\n",
    "Price=[]\n",
    "p_tags=driver.find_elements(By.XPATH,'//span[@class=\"a-price-whole\"]')\n",
    "for i in p_tags:\n",
    "    p=i.text\n",
    "    Price.append(p)\n",
    "    "
   ]
  },
  {
   "cell_type": "code",
   "execution_count": 76,
   "id": "7a31c39c",
   "metadata": {},
   "outputs": [
    {
     "data": {
      "text/html": [
       "<div>\n",
       "<style scoped>\n",
       "    .dataframe tbody tr th:only-of-type {\n",
       "        vertical-align: middle;\n",
       "    }\n",
       "\n",
       "    .dataframe tbody tr th {\n",
       "        vertical-align: top;\n",
       "    }\n",
       "\n",
       "    .dataframe thead th {\n",
       "        text-align: right;\n",
       "    }\n",
       "</style>\n",
       "<table border=\"1\" class=\"dataframe\">\n",
       "  <thead>\n",
       "    <tr style=\"text-align: right;\">\n",
       "      <th></th>\n",
       "      <th>0</th>\n",
       "    </tr>\n",
       "  </thead>\n",
       "  <tbody>\n",
       "    <tr>\n",
       "      <th>0</th>\n",
       "      <td>HP Laptop 15s, 12th Gen Intel Core i7-1255U, 1...</td>\n",
       "    </tr>\n",
       "    <tr>\n",
       "      <th>1</th>\n",
       "      <td>HP Pavilion 14 12th Gen Intel Core i7 16GB SDR...</td>\n",
       "    </tr>\n",
       "    <tr>\n",
       "      <th>2</th>\n",
       "      <td>(Refurbished) Dell Latitude 7480 14in FHD Lapt...</td>\n",
       "    </tr>\n",
       "    <tr>\n",
       "      <th>3</th>\n",
       "      <td>WALKENT Stylish 15.6\" Laptop Bag, Premium Leat...</td>\n",
       "    </tr>\n",
       "    <tr>\n",
       "      <th>4</th>\n",
       "      <td>Acer ALG 13th Gen Intel Core i7 Gaming Laptop ...</td>\n",
       "    </tr>\n",
       "    <tr>\n",
       "      <th>5</th>\n",
       "      <td>ASUS Vivobook 15, 15.6\" (39.62cm) FHD, Intel C...</td>\n",
       "    </tr>\n",
       "    <tr>\n",
       "      <th>6</th>\n",
       "      <td>Dell [Smartchoice] Inspiron 5430 Thin &amp; Light ...</td>\n",
       "    </tr>\n",
       "    <tr>\n",
       "      <th>7</th>\n",
       "      <td>Acer Travelmate Business Laptop Intel Core i7-...</td>\n",
       "    </tr>\n",
       "    <tr>\n",
       "      <th>8</th>\n",
       "      <td>Acer Aspire Lite 12th Gen Intel Core i7-1255U ...</td>\n",
       "    </tr>\n",
       "    <tr>\n",
       "      <th>9</th>\n",
       "      <td>Dell Inspiron 3530 Laptop, 13th Generation Int...</td>\n",
       "    </tr>\n",
       "  </tbody>\n",
       "</table>\n",
       "</div>"
      ],
      "text/plain": [
       "                                                   0\n",
       "0  HP Laptop 15s, 12th Gen Intel Core i7-1255U, 1...\n",
       "1  HP Pavilion 14 12th Gen Intel Core i7 16GB SDR...\n",
       "2  (Refurbished) Dell Latitude 7480 14in FHD Lapt...\n",
       "3  WALKENT Stylish 15.6\" Laptop Bag, Premium Leat...\n",
       "4  Acer ALG 13th Gen Intel Core i7 Gaming Laptop ...\n",
       "5  ASUS Vivobook 15, 15.6\" (39.62cm) FHD, Intel C...\n",
       "6  Dell [Smartchoice] Inspiron 5430 Thin & Light ...\n",
       "7  Acer Travelmate Business Laptop Intel Core i7-...\n",
       "8  Acer Aspire Lite 12th Gen Intel Core i7-1255U ...\n",
       "9  Dell Inspiron 3530 Laptop, 13th Generation Int..."
      ]
     },
     "execution_count": 76,
     "metadata": {},
     "output_type": "execute_result"
    }
   ],
   "source": [
    "pd.DataFrame(title[:10])"
   ]
  },
  {
   "cell_type": "code",
   "execution_count": 81,
   "id": "e0b3acb3",
   "metadata": {},
   "outputs": [
    {
     "data": {
      "text/html": [
       "<div>\n",
       "<style scoped>\n",
       "    .dataframe tbody tr th:only-of-type {\n",
       "        vertical-align: middle;\n",
       "    }\n",
       "\n",
       "    .dataframe tbody tr th {\n",
       "        vertical-align: top;\n",
       "    }\n",
       "\n",
       "    .dataframe thead th {\n",
       "        text-align: right;\n",
       "    }\n",
       "</style>\n",
       "<table border=\"1\" class=\"dataframe\">\n",
       "  <thead>\n",
       "    <tr style=\"text-align: right;\">\n",
       "      <th></th>\n",
       "      <th>0</th>\n",
       "    </tr>\n",
       "  </thead>\n",
       "  <tbody>\n",
       "    <tr>\n",
       "      <th>0</th>\n",
       "      <td>71</td>\n",
       "    </tr>\n",
       "    <tr>\n",
       "      <th>1</th>\n",
       "      <td>755</td>\n",
       "    </tr>\n",
       "    <tr>\n",
       "      <th>2</th>\n",
       "      <td>743</td>\n",
       "    </tr>\n",
       "    <tr>\n",
       "      <th>3</th>\n",
       "      <td>332</td>\n",
       "    </tr>\n",
       "    <tr>\n",
       "      <th>4</th>\n",
       "      <td>22</td>\n",
       "    </tr>\n",
       "    <tr>\n",
       "      <th>5</th>\n",
       "      <td>120</td>\n",
       "    </tr>\n",
       "    <tr>\n",
       "      <th>6</th>\n",
       "      <td>16</td>\n",
       "    </tr>\n",
       "    <tr>\n",
       "      <th>7</th>\n",
       "      <td>18</td>\n",
       "    </tr>\n",
       "    <tr>\n",
       "      <th>8</th>\n",
       "      <td>9</td>\n",
       "    </tr>\n",
       "    <tr>\n",
       "      <th>9</th>\n",
       "      <td>40</td>\n",
       "    </tr>\n",
       "  </tbody>\n",
       "</table>\n",
       "</div>"
      ],
      "text/plain": [
       "     0\n",
       "0   71\n",
       "1  755\n",
       "2  743\n",
       "3  332\n",
       "4   22\n",
       "5  120\n",
       "6   16\n",
       "7   18\n",
       "8    9\n",
       "9   40"
      ]
     },
     "execution_count": 81,
     "metadata": {},
     "output_type": "execute_result"
    }
   ],
   "source": [
    "pd.DataFrame(rating[:10])"
   ]
  },
  {
   "cell_type": "code",
   "execution_count": 82,
   "id": "aa52150d",
   "metadata": {},
   "outputs": [
    {
     "data": {
      "text/html": [
       "<div>\n",
       "<style scoped>\n",
       "    .dataframe tbody tr th:only-of-type {\n",
       "        vertical-align: middle;\n",
       "    }\n",
       "\n",
       "    .dataframe tbody tr th {\n",
       "        vertical-align: top;\n",
       "    }\n",
       "\n",
       "    .dataframe thead th {\n",
       "        text-align: right;\n",
       "    }\n",
       "</style>\n",
       "<table border=\"1\" class=\"dataframe\">\n",
       "  <thead>\n",
       "    <tr style=\"text-align: right;\">\n",
       "      <th></th>\n",
       "      <th>0</th>\n",
       "    </tr>\n",
       "  </thead>\n",
       "  <tbody>\n",
       "    <tr>\n",
       "      <th>0</th>\n",
       "      <td>59,990</td>\n",
       "    </tr>\n",
       "    <tr>\n",
       "      <th>1</th>\n",
       "      <td>76,990</td>\n",
       "    </tr>\n",
       "    <tr>\n",
       "      <th>2</th>\n",
       "      <td>26,494</td>\n",
       "    </tr>\n",
       "    <tr>\n",
       "      <th>3</th>\n",
       "      <td>2,990</td>\n",
       "    </tr>\n",
       "    <tr>\n",
       "      <th>4</th>\n",
       "      <td>71,990</td>\n",
       "    </tr>\n",
       "    <tr>\n",
       "      <th>5</th>\n",
       "      <td>61,990</td>\n",
       "    </tr>\n",
       "    <tr>\n",
       "      <th>6</th>\n",
       "      <td>80,990</td>\n",
       "    </tr>\n",
       "    <tr>\n",
       "      <th>7</th>\n",
       "      <td>44,990</td>\n",
       "    </tr>\n",
       "    <tr>\n",
       "      <th>8</th>\n",
       "      <td>49,990</td>\n",
       "    </tr>\n",
       "    <tr>\n",
       "      <th>9</th>\n",
       "      <td>69,920</td>\n",
       "    </tr>\n",
       "  </tbody>\n",
       "</table>\n",
       "</div>"
      ],
      "text/plain": [
       "        0\n",
       "0  59,990\n",
       "1  76,990\n",
       "2  26,494\n",
       "3   2,990\n",
       "4  71,990\n",
       "5  61,990\n",
       "6  80,990\n",
       "7  44,990\n",
       "8  49,990\n",
       "9  69,920"
      ]
     },
     "execution_count": 82,
     "metadata": {},
     "output_type": "execute_result"
    }
   ],
   "source": [
    "pd.DataFrame(Price[:10])"
   ]
  },
  {
   "cell_type": "markdown",
   "id": "6ebcf695",
   "metadata": {},
   "source": [
    "# Q6: Write a python program to scrape data for Top 1000 Quotes of All Time. The above task will be done in following steps:"
   ]
  },
  {
   "cell_type": "code",
   "execution_count": 2,
   "id": "e133aade",
   "metadata": {},
   "outputs": [],
   "source": [
    "#web driver\n",
    "driver=webdriver.Chrome()"
   ]
  },
  {
   "cell_type": "code",
   "execution_count": 3,
   "id": "96c9c42b",
   "metadata": {},
   "outputs": [],
   "source": [
    "#opening the webside for scrape\n",
    "driver.get('https://www.azquotes.com/')"
   ]
  },
  {
   "cell_type": "code",
   "execution_count": 4,
   "id": "72fc3592",
   "metadata": {},
   "outputs": [],
   "source": [
    "top=driver.find_element(By.XPATH,'//a[@href=\"/top_quotes.html\"]')\n",
    "top.click()"
   ]
  },
  {
   "cell_type": "code",
   "execution_count": 26,
   "id": "10da8a55",
   "metadata": {},
   "outputs": [],
   "source": [
    "# quote\n",
    "quote=[]\n",
    "start=0\n",
    "end=10\n",
    "for page in range(start,end):\n",
    "    q=driver.find_elements(By.XPATH,'//div[@class=\"wrap-block\"]')\n",
    "    for i in q:\n",
    "        quote.append(i.text)\n",
    "    next_button=driver.find_element(By.XPATH,'/html/body/div[1]/div[2]/div/div/div/div[1]/div/ul/li[1]/div')\n",
    "    next_button.click()\n",
    "    time.sleep(3)"
   ]
  },
  {
   "cell_type": "code",
   "execution_count": 27,
   "id": "e34f17b1",
   "metadata": {},
   "outputs": [
    {
     "name": "stdout",
     "output_type": "stream",
     "text": [
      "1000\n"
     ]
    }
   ],
   "source": [
    "print(len(quote))"
   ]
  },
  {
   "cell_type": "code",
   "execution_count": 34,
   "id": "e6d590b2",
   "metadata": {},
   "outputs": [],
   "source": [
    "Author=[]\n",
    "start=0\n",
    "end=10\n",
    "for page in range(start,end):\n",
    "    a=driver.find_elements(By.XPATH,'//div[@class=\"author\"]')\n",
    "    for i in a:\n",
    "        Author.append(i.text)\n",
    "    next_button=driver.find_element(By.XPATH,'/html/body/div[1]/div[2]/div/div/div/div[1]/div/ul/li[1]/div/div[1]')\n",
    "    next_button.click()\n",
    "    time.sleep(3)"
   ]
  },
  {
   "cell_type": "code",
   "execution_count": 35,
   "id": "7c66a879",
   "metadata": {},
   "outputs": [
    {
     "name": "stdout",
     "output_type": "stream",
     "text": [
      "1000\n"
     ]
    }
   ],
   "source": [
    "print(len(Author))"
   ]
  },
  {
   "cell_type": "code",
   "execution_count": null,
   "id": "09f3d0eb",
   "metadata": {},
   "outputs": [],
   "source": [
    "# type of Quotes\n",
    "t_o_q=[]\n",
    "start=0\n",
    "end=10\n",
    "for page in range(start,end):\n",
    "    t=driver.find_elements(By.XPATH,'//div[@class=\"tags\"]')\n",
    "    for i in t:\n",
    "        t_o_q.append(i.text)\n",
    "    next_button=driver.find_element(By.XPATH,'/html/body/div[1]/div[2]/div/div/div/div[1]/div/ul/li[1]/div/div[2]/div[1]')\n",
    "    next_button.click()\n",
    "    time.sleep(3)"
   ]
  },
  {
   "cell_type": "markdown",
   "id": "4e44f407",
   "metadata": {},
   "source": [
    "# Q7: Write a python program to display list of respected former Prime Ministers of India (i.e. Name, Born-Dead, Term of office, Remarks) from https://www.jagranjosh.com/general-knowledge/list-of- all-prime-ministers-of-india-1473165149-1 scrap the mentioned data and make the DataFrame"
   ]
  },
  {
   "cell_type": "code",
   "execution_count": 56,
   "id": "352d8265",
   "metadata": {},
   "outputs": [],
   "source": [
    "driver=webdriver.Chrome()"
   ]
  },
  {
   "cell_type": "code",
   "execution_count": 57,
   "id": "a1232b6d",
   "metadata": {},
   "outputs": [],
   "source": [
    "driver.get(\"\"\"https://www.jagranjosh.com/general-knowledge/list-of-\n",
    "all-prime-ministers-of-india-1473165149-1\"\"\")"
   ]
  },
  {
   "cell_type": "code",
   "execution_count": 55,
   "id": "22598a47",
   "metadata": {},
   "outputs": [],
   "source": [
    "names=[]\n",
    "Age_when_assumed_office=[]\n",
    "Term_of_office=[]\n",
    "Duration=[]"
   ]
  },
  {
   "cell_type": "markdown",
   "id": "ae889d39",
   "metadata": {},
   "source": [
    "# Q8: Write a python program to display list of 50 Most expensive cars in the world (i.e. Car name and Price) from https://www.motor1.com/"
   ]
  },
  {
   "cell_type": "code",
   "execution_count": 86,
   "id": "52ec80d4",
   "metadata": {},
   "outputs": [],
   "source": [
    "driver=webdriver.Chrome()"
   ]
  },
  {
   "cell_type": "code",
   "execution_count": 87,
   "id": "001db1ab",
   "metadata": {},
   "outputs": [],
   "source": [
    "driver.get('https://www.motor1.com/')"
   ]
  },
  {
   "cell_type": "code",
   "execution_count": 89,
   "id": "39327dae",
   "metadata": {},
   "outputs": [],
   "source": [
    "car=driver.find_element(By.XPATH,'/html/body/div[9]/div[2]/div/div/div[3]/div/div/div/form/input')\n",
    "car.send_keys('50 most expensive cars')"
   ]
  },
  {
   "cell_type": "code",
   "execution_count": 90,
   "id": "02acdc89",
   "metadata": {},
   "outputs": [],
   "source": [
    "search=driver.find_element(By.XPATH,'/html/body/div[9]/div[2]/div/div/div[3]/div/div/div/form/button[1]')\n",
    "search.click()"
   ]
  },
  {
   "cell_type": "code",
   "execution_count": 91,
   "id": "0807c658",
   "metadata": {},
   "outputs": [],
   "source": [
    "press=driver.find_element(By.CLASS_NAME,\"text-box\")\n",
    "press.click()"
   ]
  },
  {
   "cell_type": "code",
   "execution_count": 92,
   "id": "a9ecfd12",
   "metadata": {},
   "outputs": [],
   "source": [
    "cars=[]\n",
    "car_tags=driver.find_elements(By.XPATH,'//h3[@class=\"subheader\"]')\n",
    "for i in car_tags:\n",
    "    c=i.text\n",
    "    cars.append(i.text)"
   ]
  },
  {
   "cell_type": "code",
   "execution_count": 94,
   "id": "c438b92a",
   "metadata": {},
   "outputs": [
    {
     "data": {
      "text/html": [
       "<div>\n",
       "<style scoped>\n",
       "    .dataframe tbody tr th:only-of-type {\n",
       "        vertical-align: middle;\n",
       "    }\n",
       "\n",
       "    .dataframe tbody tr th {\n",
       "        vertical-align: top;\n",
       "    }\n",
       "\n",
       "    .dataframe thead th {\n",
       "        text-align: right;\n",
       "    }\n",
       "</style>\n",
       "<table border=\"1\" class=\"dataframe\">\n",
       "  <thead>\n",
       "    <tr style=\"text-align: right;\">\n",
       "      <th></th>\n",
       "      <th>Top 50 Expensive Cars</th>\n",
       "    </tr>\n",
       "  </thead>\n",
       "  <tbody>\n",
       "    <tr>\n",
       "      <th>0</th>\n",
       "      <td>McLaren Senna GTR</td>\n",
       "    </tr>\n",
       "    <tr>\n",
       "      <th>1</th>\n",
       "      <td>Czinger 21C</td>\n",
       "    </tr>\n",
       "    <tr>\n",
       "      <th>2</th>\n",
       "      <td>Ferrari Monza</td>\n",
       "    </tr>\n",
       "    <tr>\n",
       "      <th>3</th>\n",
       "      <td>Gordon Murray T.33</td>\n",
       "    </tr>\n",
       "    <tr>\n",
       "      <th>4</th>\n",
       "      <td>Koenigsegg Gemera</td>\n",
       "    </tr>\n",
       "    <tr>\n",
       "      <th>5</th>\n",
       "      <td>Hennessey Venom F5</td>\n",
       "    </tr>\n",
       "    <tr>\n",
       "      <th>6</th>\n",
       "      <td>Bentley Bacalar</td>\n",
       "    </tr>\n",
       "    <tr>\n",
       "      <th>7</th>\n",
       "      <td>Hispano Suiza Carmen Boulogne</td>\n",
       "    </tr>\n",
       "    <tr>\n",
       "      <th>8</th>\n",
       "      <td>Bentley Mulliner Batur</td>\n",
       "    </tr>\n",
       "    <tr>\n",
       "      <th>9</th>\n",
       "      <td>SSC Tuatara</td>\n",
       "    </tr>\n",
       "    <tr>\n",
       "      <th>10</th>\n",
       "      <td>Lotus Evija</td>\n",
       "    </tr>\n",
       "    <tr>\n",
       "      <th>11</th>\n",
       "      <td>Aston Martin Vulcan</td>\n",
       "    </tr>\n",
       "    <tr>\n",
       "      <th>12</th>\n",
       "      <td>Delage D12</td>\n",
       "    </tr>\n",
       "    <tr>\n",
       "      <th>13</th>\n",
       "      <td>Ferrari Daytona SP3</td>\n",
       "    </tr>\n",
       "    <tr>\n",
       "      <th>14</th>\n",
       "      <td>McLaren Speedtail</td>\n",
       "    </tr>\n",
       "    <tr>\n",
       "      <th>15</th>\n",
       "      <td>Rimac Nevera</td>\n",
       "    </tr>\n",
       "    <tr>\n",
       "      <th>16</th>\n",
       "      <td>Pagani Utopia</td>\n",
       "    </tr>\n",
       "    <tr>\n",
       "      <th>17</th>\n",
       "      <td>Pininfarina Battista</td>\n",
       "    </tr>\n",
       "    <tr>\n",
       "      <th>18</th>\n",
       "      <td>Gordon Murray T.50</td>\n",
       "    </tr>\n",
       "    <tr>\n",
       "      <th>19</th>\n",
       "      <td>Lamborghini Countach</td>\n",
       "    </tr>\n",
       "    <tr>\n",
       "      <th>20</th>\n",
       "      <td>Hennessey Venom F5 Revolution</td>\n",
       "    </tr>\n",
       "    <tr>\n",
       "      <th>21</th>\n",
       "      <td>Mercedes-AMG Project One</td>\n",
       "    </tr>\n",
       "    <tr>\n",
       "      <th>22</th>\n",
       "      <td>Zenvo Aurora</td>\n",
       "    </tr>\n",
       "    <tr>\n",
       "      <th>23</th>\n",
       "      <td>Aston Martin Victor</td>\n",
       "    </tr>\n",
       "    <tr>\n",
       "      <th>24</th>\n",
       "      <td>Hennessey Venom F5 Roadster</td>\n",
       "    </tr>\n",
       "    <tr>\n",
       "      <th>25</th>\n",
       "      <td>Koenigsegg Jesko</td>\n",
       "    </tr>\n",
       "    <tr>\n",
       "      <th>26</th>\n",
       "      <td>Aspark Owl</td>\n",
       "    </tr>\n",
       "    <tr>\n",
       "      <th>27</th>\n",
       "      <td>Aston Martin Valkyrie</td>\n",
       "    </tr>\n",
       "    <tr>\n",
       "      <th>28</th>\n",
       "      <td>W Motors Lykan Hypersport</td>\n",
       "    </tr>\n",
       "    <tr>\n",
       "      <th>29</th>\n",
       "      <td>McLaren Solus</td>\n",
       "    </tr>\n",
       "    <tr>\n",
       "      <th>30</th>\n",
       "      <td>Pagani Huayra Evo R</td>\n",
       "    </tr>\n",
       "    <tr>\n",
       "      <th>31</th>\n",
       "      <td>Lamborghini Sian</td>\n",
       "    </tr>\n",
       "    <tr>\n",
       "      <th>32</th>\n",
       "      <td>Koenigsegg CC850</td>\n",
       "    </tr>\n",
       "    <tr>\n",
       "      <th>33</th>\n",
       "      <td>Bugatti Chiron Super Sport 300+</td>\n",
       "    </tr>\n",
       "    <tr>\n",
       "      <th>34</th>\n",
       "      <td>Gordon Murray Automotive T.50s Niki Lauda</td>\n",
       "    </tr>\n",
       "    <tr>\n",
       "      <th>35</th>\n",
       "      <td>Pagani Huayra Roadster BC</td>\n",
       "    </tr>\n",
       "    <tr>\n",
       "      <th>36</th>\n",
       "      <td>Lamborghini Veneno</td>\n",
       "    </tr>\n",
       "    <tr>\n",
       "      <th>37</th>\n",
       "      <td>Bugatti Bolide</td>\n",
       "    </tr>\n",
       "    <tr>\n",
       "      <th>38</th>\n",
       "      <td>Pininfarina B95 Speedster</td>\n",
       "    </tr>\n",
       "    <tr>\n",
       "      <th>39</th>\n",
       "      <td>Bugatti Mistral</td>\n",
       "    </tr>\n",
       "    <tr>\n",
       "      <th>40</th>\n",
       "      <td>Bugatti Divo</td>\n",
       "    </tr>\n",
       "    <tr>\n",
       "      <th>41</th>\n",
       "      <td>Pagani Huayra Imola</td>\n",
       "    </tr>\n",
       "    <tr>\n",
       "      <th>42</th>\n",
       "      <td>Pagani Codalunga</td>\n",
       "    </tr>\n",
       "    <tr>\n",
       "      <th>43</th>\n",
       "      <td>Mercedes-Maybach Exelero</td>\n",
       "    </tr>\n",
       "    <tr>\n",
       "      <th>44</th>\n",
       "      <td>Bugatti Centodieci</td>\n",
       "    </tr>\n",
       "    <tr>\n",
       "      <th>45</th>\n",
       "      <td>Bugatti Chiron Profilée</td>\n",
       "    </tr>\n",
       "    <tr>\n",
       "      <th>46</th>\n",
       "      <td>Rolls-Royce Sweptail</td>\n",
       "    </tr>\n",
       "    <tr>\n",
       "      <th>47</th>\n",
       "      <td>Bugatti La Voiture Noire</td>\n",
       "    </tr>\n",
       "    <tr>\n",
       "      <th>48</th>\n",
       "      <td>Rolls-Royce Boat Tail</td>\n",
       "    </tr>\n",
       "    <tr>\n",
       "      <th>49</th>\n",
       "      <td>Rolls-Royce La Rose Noire Droptail</td>\n",
       "    </tr>\n",
       "    <tr>\n",
       "      <th>50</th>\n",
       "      <td>Most Expensive Cars In The World</td>\n",
       "    </tr>\n",
       "  </tbody>\n",
       "</table>\n",
       "</div>"
      ],
      "text/plain": [
       "                        Top 50 Expensive Cars\n",
       "0                           McLaren Senna GTR\n",
       "1                                 Czinger 21C\n",
       "2                               Ferrari Monza\n",
       "3                          Gordon Murray T.33\n",
       "4                           Koenigsegg Gemera\n",
       "5                          Hennessey Venom F5\n",
       "6                             Bentley Bacalar\n",
       "7               Hispano Suiza Carmen Boulogne\n",
       "8                      Bentley Mulliner Batur\n",
       "9                                 SSC Tuatara\n",
       "10                                Lotus Evija\n",
       "11                        Aston Martin Vulcan\n",
       "12                                 Delage D12\n",
       "13                        Ferrari Daytona SP3\n",
       "14                          McLaren Speedtail\n",
       "15                               Rimac Nevera\n",
       "16                              Pagani Utopia\n",
       "17                       Pininfarina Battista\n",
       "18                         Gordon Murray T.50\n",
       "19                       Lamborghini Countach\n",
       "20              Hennessey Venom F5 Revolution\n",
       "21                   Mercedes-AMG Project One\n",
       "22                               Zenvo Aurora\n",
       "23                        Aston Martin Victor\n",
       "24                Hennessey Venom F5 Roadster\n",
       "25                           Koenigsegg Jesko\n",
       "26                                 Aspark Owl\n",
       "27                      Aston Martin Valkyrie\n",
       "28                  W Motors Lykan Hypersport\n",
       "29                              McLaren Solus\n",
       "30                        Pagani Huayra Evo R\n",
       "31                           Lamborghini Sian\n",
       "32                           Koenigsegg CC850\n",
       "33            Bugatti Chiron Super Sport 300+\n",
       "34  Gordon Murray Automotive T.50s Niki Lauda\n",
       "35                  Pagani Huayra Roadster BC\n",
       "36                         Lamborghini Veneno\n",
       "37                             Bugatti Bolide\n",
       "38                  Pininfarina B95 Speedster\n",
       "39                            Bugatti Mistral\n",
       "40                               Bugatti Divo\n",
       "41                        Pagani Huayra Imola\n",
       "42                           Pagani Codalunga\n",
       "43                   Mercedes-Maybach Exelero\n",
       "44                         Bugatti Centodieci\n",
       "45                    Bugatti Chiron Profilée\n",
       "46                       Rolls-Royce Sweptail\n",
       "47                   Bugatti La Voiture Noire\n",
       "48                      Rolls-Royce Boat Tail\n",
       "49         Rolls-Royce La Rose Noire Droptail\n",
       "50           Most Expensive Cars In The World"
      ]
     },
     "execution_count": 94,
     "metadata": {},
     "output_type": "execute_result"
    }
   ],
   "source": [
    "Data=pd.DataFrame({'Top 50 Expensive Cars':cars})\n",
    "Data"
   ]
  }
 ],
 "metadata": {
  "kernelspec": {
   "display_name": "Python 3 (ipykernel)",
   "language": "python",
   "name": "python3"
  },
  "language_info": {
   "codemirror_mode": {
    "name": "ipython",
    "version": 3
   },
   "file_extension": ".py",
   "mimetype": "text/x-python",
   "name": "python",
   "nbconvert_exporter": "python",
   "pygments_lexer": "ipython3",
   "version": "3.11.5"
  }
 },
 "nbformat": 4,
 "nbformat_minor": 5
}
