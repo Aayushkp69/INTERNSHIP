{
 "cells": [
  {
   "cell_type": "markdown",
   "id": "f39a35f5",
   "metadata": {},
   "source": [
    "# SET-2"
   ]
  },
  {
   "cell_type": "markdown",
   "id": "a7a43a36",
   "metadata": {},
   "source": [
    "Q1 to Q8 have only one correct answer. Choose the correct option to answer your question."
   ]
  },
  {
   "cell_type": "markdown",
   "id": "a4480097",
   "metadata": {},
   "source": [
    "\n",
    "1. Which of the following operators is used to calculate remainder in a division? \n",
    "A) # \n",
    "B) & \n",
    "C) %  \n",
    "D) $ \n",
    "\n",
    "ANSWER-%"
   ]
  },
  {
   "cell_type": "markdown",
   "id": "d6b32e67",
   "metadata": {},
   "source": [
    "2. In python 2//3 is equal to? \n",
    "A) 0.666\n",
    " B) 0 \n",
    "C) 1\n",
    " D) 0.67 \n",
    "\n",
    "ANSWER- 0 "
   ]
  },
  {
   "cell_type": "markdown",
   "id": "89729e0e",
   "metadata": {},
   "source": [
    "3. In python, 6<<2 is equal to? \n",
    "A) 36\n",
    " B) 10 \n",
    "C) 24\n",
    " D) 45 \n",
    "\n",
    "ANSWER = 24"
   ]
  },
  {
   "cell_type": "markdown",
   "id": "25f40889",
   "metadata": {},
   "source": [
    "4. In python, 6&2 will give which of the following as output? \n",
    "A) 2 \n",
    "B) True \n",
    "C) False \n",
    "D) 0 \n",
    "\n",
    "ANSWER = 2"
   ]
  },
  {
   "cell_type": "markdown",
   "id": "c86aed3e",
   "metadata": {},
   "source": [
    "5. In python, 6|2 will give which of the following as output? \n",
    "A) 2 \n",
    "B) 4 \n",
    "C) 0 \n",
    "D) 6 \n",
    "\n",
    "ANSWER = 6"
   ]
  },
  {
   "cell_type": "markdown",
   "id": "2309784f",
   "metadata": {},
   "source": [
    "6. What does the finally keyword denotes in python? \n",
    "A) It is used to mark the end of the code \n",
    "B) It encloses the lines of code which will be executed if any error occurs while executing the lines of code in the try block. \n",
    "C) the finally block will be executed no matter if the try block raises an error or not. \n",
    "D) None of the above \n",
    "\n",
    "ANSWER =  (c) the finally block will be executed no matter if the try block raises an error or not."
   ]
  },
  {
   "cell_type": "markdown",
   "id": "083758ae",
   "metadata": {},
   "source": [
    "7. What does raise keyword is used for in python? \n",
    "A) It is used to raise an exception. \n",
    "B) It is used to define lambda function \n",
    "C) it's not a keyword in python.\n",
    " D) None of the above \n",
    "\n",
    "ANSWER = (A) It is used to raise an exception. "
   ]
  },
  {
   "cell_type": "markdown",
   "id": "0361758e",
   "metadata": {},
   "source": [
    "8. Which of the following is a common use case of yield keyword in python? \n",
    "A) in defining an iterator\n",
    "B) while defining a lambda function \n",
    "C) in defining a generator\n",
    "D) in for loop. \n",
    "\n",
    "ANSWER = (C) in defining a generator"
   ]
  },
  {
   "cell_type": "markdown",
   "id": "0f611cfb",
   "metadata": {},
   "source": [
    "9. Which of the following are the valid variable names? \n",
    "A) _abc \n",
    "B) 1abc \n",
    "C) abc2 \n",
    "D) None of the above \n",
    "\n",
    "ANSWER = both (A) & (C)"
   ]
  },
  {
   "cell_type": "markdown",
   "id": "141560f6",
   "metadata": {},
   "source": [
    "10. Which of the following are the keywords in python? \n",
    "A) yield \n",
    "B) raise \n",
    "C) look-in \n",
    "D) all of the above \n",
    "\n",
    "ANSWER = both (A) & (B)"
   ]
  },
  {
   "cell_type": "markdown",
   "id": "3c5220e9",
   "metadata": {},
   "source": [
    "# Q11 to Q15 are programming questions. Answer them in Jupyter Notebook. "
   ]
  },
  {
   "cell_type": "markdown",
   "id": "4a1f5082",
   "metadata": {},
   "source": [
    "11. Write a python program to find the factorial of a number. "
   ]
  },
  {
   "cell_type": "code",
   "execution_count": 29,
   "id": "0f1d76fc",
   "metadata": {},
   "outputs": [
    {
     "name": "stdout",
     "output_type": "stream",
     "text": [
      "Enter The Number: 5\n",
      "The Factorials is : 120\n"
     ]
    }
   ],
   "source": [
    "# ANSWER\n",
    "number= int(input('Enter The Number: '))\n",
    "factorial = 1\n",
    "\n",
    "# compute factorial\n",
    "for i in range(1,number+1):\n",
    "    factorial *=i\n",
    "print('The Factorials is :',factorial)"
   ]
  },
  {
   "cell_type": "raw",
   "id": "8db4cd44",
   "metadata": {},
   "source": [
    "12. Write a python program to find whether a number is prime or composite. "
   ]
  },
  {
   "cell_type": "code",
   "execution_count": 5,
   "id": "489d2ecc",
   "metadata": {},
   "outputs": [
    {
     "name": "stdout",
     "output_type": "stream",
     "text": [
      "Enter a Number: 2\n",
      "2  : is a Prime Number\n"
     ]
    }
   ],
   "source": [
    "# ANSWER\n",
    "num=int(input('Enter a Number: '))\n",
    "if num==0 or num==1:\n",
    "    print('number is neighther prime nor composite')\n",
    "else:\n",
    "    for i in range(2,num):\n",
    "        if num%i==0:\n",
    "            print(num, \": is composite number\")\n",
    "            break\n",
    "    else:\n",
    "        print(num, \" : is a Prime Number\")"
   ]
  },
  {
   "cell_type": "raw",
   "id": "33d0005c",
   "metadata": {},
   "source": [
    "13. Write a python program to check whether a given string is palindrome or not. "
   ]
  },
  {
   "cell_type": "code",
   "execution_count": 10,
   "id": "67f2379b",
   "metadata": {},
   "outputs": [
    {
     "name": "stdout",
     "output_type": "stream",
     "text": [
      "True\n",
      "False\n",
      "True\n"
     ]
    }
   ],
   "source": [
    "# ANSWER\n",
    "# palindrome means when a string, number or character reads same backward as forward.\n",
    "def palindrome_num(s):\n",
    "    return s== s[::-1]\n",
    "print(palindrome_num('NAMAN'))\n",
    "print(palindrome_num('WORLD'))\n",
    "print(palindrome_num(\"RADAR\"))"
   ]
  },
  {
   "cell_type": "raw",
   "id": "9fa6fc16",
   "metadata": {},
   "source": [
    "14. Write a Python program to get the third side of right-angled triangle from two given sides. "
   ]
  },
  {
   "cell_type": "code",
   "execution_count": 40,
   "id": "3f10010c",
   "metadata": {},
   "outputs": [
    {
     "name": "stdout",
     "output_type": "stream",
     "text": [
      "Hypotenuse = (1.6200554372175822e-16+2.6457513110645907j)\n",
      "Adjacent = 4.0\n",
      "Opposite = 3.0\n",
      "YOU KNOW THE ANSWER !\n"
     ]
    }
   ],
   "source": [
    "# ANSWER \n",
    "# Define a function 'pythagoras' that calculates the missing side of a right-angled triangle.\n",
    "def pythagoras(opposite_side, adjacent_side ,hypotenuse):\n",
    "    # if opposite side is unknown\n",
    "    if opposite_side==str('x'):\n",
    "        return('Opposite = '+ str(((hypotenuse**2)-(adjacent_side**2))**0.5))\n",
    "    # if adjacent side is unknown\n",
    "    elif adjacent_side==str('x'):\n",
    "        return('Adjacent = '+str(((hypotenuse**2)-(opposite_side**2))**0.5))\n",
    "    # if hypotenuse is unknown\n",
    "    elif hypotenuse==str('x'):\n",
    "        return('Hypotenuse = ' +str(((opposite_side**2)-(adjacent_side**2))**0.5))\n",
    "    else:\n",
    "        return 'YOU KNOW THE ANSWER !'\n",
    "    \n",
    "# now test the function\n",
    "print(pythagoras(3,4,'x'))\n",
    "print(pythagoras(3, 'x', 5))\n",
    "print(pythagoras('x',4,5))\n",
    "print(pythagoras(3, 4,5))\n",
    "    \n"
   ]
  },
  {
   "cell_type": "raw",
   "id": "9f62c3b7",
   "metadata": {},
   "source": [
    "15. Write a python program to print the frequency of each of the characters present in a given string. "
   ]
  },
  {
   "cell_type": "code",
   "execution_count": 49,
   "id": "a834886b",
   "metadata": {},
   "outputs": [
    {
     "name": "stdout",
     "output_type": "stream",
     "text": [
      "Enter your string: AKSH\n",
      "Enter the character for frequency: S\n",
      "The frequency of S in the string is 1\n"
     ]
    }
   ],
   "source": [
    "string = input('Enter your string: ')\n",
    "char = input('Enter the character for frequency: ')\n",
    "count = 0\n",
    "for i in string:\n",
    "    if i == char:\n",
    "        count += 1\n",
    "print('The frequency of', char, 'in the string is', count)\n"
   ]
  }
 ],
 "metadata": {
  "kernelspec": {
   "display_name": "Python 3 (ipykernel)",
   "language": "python",
   "name": "python3"
  },
  "language_info": {
   "codemirror_mode": {
    "name": "ipython",
    "version": 3
   },
   "file_extension": ".py",
   "mimetype": "text/x-python",
   "name": "python",
   "nbconvert_exporter": "python",
   "pygments_lexer": "ipython3",
   "version": "3.11.5"
  }
 },
 "nbformat": 4,
 "nbformat_minor": 5
}
