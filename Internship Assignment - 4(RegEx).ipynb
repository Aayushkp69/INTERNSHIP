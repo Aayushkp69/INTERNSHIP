{
 "cells": [
  {
   "cell_type": "markdown",
   "id": "7ce18d41",
   "metadata": {},
   "source": [
    "# Regular Expression"
   ]
  },
  {
   "cell_type": "markdown",
   "id": "b76d2de9",
   "metadata": {},
   "source": [
    "Question 1- Write a Python program to replace all occurrences of a space, comma, or dot with a\n",
    "colon."
   ]
  },
  {
   "cell_type": "code",
   "execution_count": 1,
   "id": "4cd56630",
   "metadata": {},
   "outputs": [],
   "source": [
    "import pandas as pd\n",
    "import re\n",
    "import regex as re"
   ]
  },
  {
   "cell_type": "markdown",
   "id": "1ba78f6e",
   "metadata": {},
   "source": [
    "Question 1- Write a Python program to replace all occurrences of a space, comma, or dot with a\n",
    "colon."
   ]
  },
  {
   "cell_type": "code",
   "execution_count": 2,
   "id": "9a3d2896",
   "metadata": {},
   "outputs": [
    {
     "name": "stdout",
     "output_type": "stream",
     "text": [
      "Python:Excercises::PHP:excercises\n"
     ]
    }
   ],
   "source": [
    "sample_Text='Python Excercises, PHP excercises'\n",
    "result=re.sub(r'[,\\s]',':',sample_Text)\n",
    "print(result)"
   ]
  },
  {
   "cell_type": "markdown",
   "id": "60ca3ab8",
   "metadata": {},
   "source": [
    "Question 2- Create a dataframe using the dictionary below and remove everything (commas (,), !,\n",
    "XXXX, ;, etc.) from the columns except words."
   ]
  },
  {
   "cell_type": "code",
   "execution_count": 3,
   "id": "bd51eeeb",
   "metadata": {},
   "outputs": [
    {
     "name": "stdout",
     "output_type": "stream",
     "text": [
      "{'SUMMARY': ['hello world', ' test', 'four five six']}\n"
     ]
    },
    {
     "data": {
      "text/html": [
       "<div>\n",
       "<style scoped>\n",
       "    .dataframe tbody tr th:only-of-type {\n",
       "        vertical-align: middle;\n",
       "    }\n",
       "\n",
       "    .dataframe tbody tr th {\n",
       "        vertical-align: top;\n",
       "    }\n",
       "\n",
       "    .dataframe thead th {\n",
       "        text-align: right;\n",
       "    }\n",
       "</style>\n",
       "<table border=\"1\" class=\"dataframe\">\n",
       "  <thead>\n",
       "    <tr style=\"text-align: right;\">\n",
       "      <th></th>\n",
       "      <th>SUMMARY</th>\n",
       "    </tr>\n",
       "  </thead>\n",
       "  <tbody>\n",
       "    <tr>\n",
       "      <th>0</th>\n",
       "      <td>hello world</td>\n",
       "    </tr>\n",
       "    <tr>\n",
       "      <th>1</th>\n",
       "      <td>test</td>\n",
       "    </tr>\n",
       "    <tr>\n",
       "      <th>2</th>\n",
       "      <td>four five six</td>\n",
       "    </tr>\n",
       "  </tbody>\n",
       "</table>\n",
       "</div>"
      ],
      "text/plain": [
       "         SUMMARY\n",
       "0    hello world\n",
       "1           test\n",
       "2  four five six"
      ]
     },
     "execution_count": 3,
     "metadata": {},
     "output_type": "execute_result"
    }
   ],
   "source": [
    "dictionary={'SUMMARY':['hello, world!','XXXXX test','123four, five:; six...']}\n",
    "dict_new={}\n",
    "dict_new['SUMMARY'] = [re.sub(r'[,!X;.:\\d]', \"\", new_text) for new_text in dictionary['SUMMARY']]\n",
    "print(dict_new)\n",
    "pd.DataFrame(dict_new)"
   ]
  },
  {
   "cell_type": "markdown",
   "id": "92a7707b",
   "metadata": {},
   "source": [
    "Question 3- Create a function in python to find all words that are at least 4 characters long in a\n",
    "string. The use of the re.compile() method is mandatory."
   ]
  },
  {
   "cell_type": "code",
   "execution_count": 4,
   "id": "4cdbed84",
   "metadata": {},
   "outputs": [
    {
     "name": "stdout",
     "output_type": "stream",
     "text": [
      "<regex.Match object; span=(0, 4), match='Manu'>\n",
      "------------------------------------------------------------\n",
      "<regex.Match object; span=(5, 9), match='went'>\n",
      "------------------------------------------------------------\n",
      "<regex.Match object; span=(13, 17), match='frui'>\n",
      "------------------------------------------------------------\n",
      "<regex.Match object; span=(21, 25), match='vend'>\n",
      "------------------------------------------------------------\n",
      "<regex.Match object; span=(28, 32), match='shop'>\n",
      "------------------------------------------------------------\n",
      "<regex.Match object; span=(44, 48), match='Appl'>\n",
      "------------------------------------------------------------\n",
      "<regex.Match object; span=(54, 58), match='pear'>\n",
      "------------------------------------------------------------\n",
      "<regex.Match object; span=(63, 67), match='wate'>\n",
      "------------------------------------------------------------\n",
      "<regex.Match object; span=(69, 73), match='melo'>\n",
      "------------------------------------------------------------\n"
     ]
    }
   ],
   "source": [
    "target_str=\"Manu went to fruit's vendor shop to buy 1kg Apple,2kg pear,5kg water melon.\"\n",
    "pattern=re.compile(r'\\w{4}+')\n",
    "# find all 4 characters word \n",
    "for i in pattern.finditer(target_str):\n",
    "    print(i)\n",
    "    print('-'*60)"
   ]
  },
  {
   "cell_type": "markdown",
   "id": "ed603b43",
   "metadata": {},
   "source": [
    "Question 4- Create a function in python to find all three, four, and five character words in a string.\n",
    "The use of the re.compile() method is mandatory."
   ]
  },
  {
   "cell_type": "code",
   "execution_count": 5,
   "id": "1fe2408b",
   "metadata": {},
   "outputs": [
    {
     "name": "stdout",
     "output_type": "stream",
     "text": [
      "<regex.Match object; span=(0, 4), match='Manu'>\n",
      "------------------------------------------------------------\n",
      "<regex.Match object; span=(5, 9), match='went'>\n",
      "------------------------------------------------------------\n",
      "<regex.Match object; span=(13, 18), match='fruit'>\n",
      "------------------------------------------------------------\n",
      "<regex.Match object; span=(21, 26), match='vendo'>\n",
      "------------------------------------------------------------\n",
      "<regex.Match object; span=(28, 32), match='shop'>\n",
      "------------------------------------------------------------\n",
      "<regex.Match object; span=(36, 39), match='buy'>\n",
      "------------------------------------------------------------\n",
      "<regex.Match object; span=(40, 43), match='1kg'>\n",
      "------------------------------------------------------------\n",
      "<regex.Match object; span=(44, 49), match='Apple'>\n",
      "------------------------------------------------------------\n",
      "<regex.Match object; span=(50, 53), match='2kg'>\n",
      "------------------------------------------------------------\n",
      "<regex.Match object; span=(54, 58), match='pear'>\n",
      "------------------------------------------------------------\n",
      "<regex.Match object; span=(59, 62), match='5kg'>\n",
      "------------------------------------------------------------\n",
      "<regex.Match object; span=(63, 68), match='water'>\n",
      "------------------------------------------------------------\n",
      "<regex.Match object; span=(69, 74), match='melon'>\n",
      "------------------------------------------------------------\n"
     ]
    }
   ],
   "source": [
    "target_str=\"Manu went to fruit's vendor shop to buy 1kg Apple,2kg pear,5kg water melon.\"\n",
    "pattern=re.compile(r'\\w{3,5}+')\n",
    "# find all 4 characters word \n",
    "for i in pattern.finditer(target_str):\n",
    "    print(i)\n",
    "    print('-'*60)"
   ]
  },
  {
   "cell_type": "markdown",
   "id": "d76cd164",
   "metadata": {},
   "source": [
    "Question 5- Create a function in Python to remove the parenthesis in a list of strings. The use of the\n",
    "re.compile() method is mandatory."
   ]
  },
  {
   "cell_type": "code",
   "execution_count": 6,
   "id": "53983e35",
   "metadata": {},
   "outputs": [
    {
     "name": "stdout",
     "output_type": "stream",
     "text": [
      "['example .com', 'hr@fliprobo .com', 'github .com', 'Hello Data Science World', 'Data Scientist']\n"
     ]
    },
    {
     "data": {
      "text/html": [
       "<div>\n",
       "<style scoped>\n",
       "    .dataframe tbody tr th:only-of-type {\n",
       "        vertical-align: middle;\n",
       "    }\n",
       "\n",
       "    .dataframe tbody tr th {\n",
       "        vertical-align: top;\n",
       "    }\n",
       "\n",
       "    .dataframe thead th {\n",
       "        text-align: right;\n",
       "    }\n",
       "</style>\n",
       "<table border=\"1\" class=\"dataframe\">\n",
       "  <thead>\n",
       "    <tr style=\"text-align: right;\">\n",
       "      <th></th>\n",
       "      <th>0</th>\n",
       "    </tr>\n",
       "  </thead>\n",
       "  <tbody>\n",
       "    <tr>\n",
       "      <th>0</th>\n",
       "      <td>example .com</td>\n",
       "    </tr>\n",
       "    <tr>\n",
       "      <th>1</th>\n",
       "      <td>hr@fliprobo .com</td>\n",
       "    </tr>\n",
       "    <tr>\n",
       "      <th>2</th>\n",
       "      <td>github .com</td>\n",
       "    </tr>\n",
       "    <tr>\n",
       "      <th>3</th>\n",
       "      <td>Hello Data Science World</td>\n",
       "    </tr>\n",
       "    <tr>\n",
       "      <th>4</th>\n",
       "      <td>Data Scientist</td>\n",
       "    </tr>\n",
       "  </tbody>\n",
       "</table>\n",
       "</div>"
      ],
      "text/plain": [
       "                          0\n",
       "0              example .com\n",
       "1          hr@fliprobo .com\n",
       "2               github .com\n",
       "3  Hello Data Science World\n",
       "4            Data Scientist"
      ]
     },
     "execution_count": 6,
     "metadata": {},
     "output_type": "execute_result"
    }
   ],
   "source": [
    "pattern= re.compile(r'[()]') # parenthesis remove\n",
    "\n",
    "#using sub method to remove \n",
    "Sample_Text= [\"example (.com)\", \"hr@fliprobo (.com)\", \"github (.com)\",\"Hello (Data Science World)\",\n",
    "\"Data (Scientist)\"]\n",
    "result = [pattern.sub(\"\", text) for text in Sample_Text]\n",
    "print(result)\n",
    "pd.DataFrame(result)"
   ]
  },
  {
   "cell_type": "markdown",
   "id": "eda590f1",
   "metadata": {},
   "source": [
    "Question 6- Write a python program to remove the parenthesis area from the text stored in the text\n",
    "file using Regular Expression."
   ]
  },
  {
   "cell_type": "code",
   "execution_count": 7,
   "id": "f8e99570",
   "metadata": {},
   "outputs": [
    {
     "name": "stdout",
     "output_type": "stream",
     "text": [
      "example\n",
      "hr@fliprobo\n",
      "github\n",
      "Hello\n",
      "Data\n"
     ]
    }
   ],
   "source": [
    "Sample_Text= [\"example (.com)\", \"hr@fliprobo (.com)\", \"github (.com)\",\"Hello (Data Science World)\",\n",
    "\"Data (Scientist)\"]\n",
    "for text in Sample_Text:\n",
    "    print(re.sub(r\" ?\\([^)]*\\)\", \"\", text))"
   ]
  },
  {
   "cell_type": "markdown",
   "id": "1d74fd0c",
   "metadata": {},
   "source": [
    "Question 7- Write a regular expression in Python to split a string into uppercase letters."
   ]
  },
  {
   "cell_type": "code",
   "execution_count": 8,
   "id": "ca610a28",
   "metadata": {},
   "outputs": [
    {
     "name": "stdout",
     "output_type": "stream",
     "text": [
      "['', 'Importance', 'Of', 'Regular', 'Expressions', 'In', 'Python']\n"
     ]
    }
   ],
   "source": [
    "sample_text=\"ImportanceOfRegularExpressionsInPython\"\n",
    "pattern=re.split(r'(?=[A-Z])',sample_text,6)\n",
    "print(pattern)"
   ]
  },
  {
   "cell_type": "markdown",
   "id": "5bc28f42",
   "metadata": {},
   "source": [
    "Question 8- Create a function in python to insert spaces between words starting with numbers."
   ]
  },
  {
   "cell_type": "code",
   "execution_count": 9,
   "id": "86297d16",
   "metadata": {},
   "outputs": [
    {
     "name": "stdout",
     "output_type": "stream",
     "text": [
      "RegularExpression1 IsAn2 ImportantTopic3 InPython\n"
     ]
    }
   ],
   "source": [
    "def spaces(string):\n",
    "    pattern= r'(\\d+)([A-Za-z]+)'\n",
    "    result=re.sub(pattern,r'\\1 \\2',string)\n",
    "    return result\n",
    "string=\"RegularExpression1IsAn2ImportantTopic3InPython\"\n",
    "x= spaces(string)\n",
    "print(x)"
   ]
  },
  {
   "cell_type": "markdown",
   "id": "9f51383b",
   "metadata": {},
   "source": [
    "Question 9- Create a function in python to insert spaces between words starting with capital letters\n",
    "or with numbers."
   ]
  },
  {
   "cell_type": "code",
   "execution_count": 10,
   "id": "da42b683",
   "metadata": {},
   "outputs": [
    {
     "name": "stdout",
     "output_type": "stream",
     "text": [
      "Regular Expression1 Is An2 Important Topic3 In Python\n"
     ]
    }
   ],
   "source": [
    "def words(string):\n",
    "    return re.sub(r'(\\w)([A-Z]+)',r'\\1 \\2',string)\n",
    "string=\"RegularExpression1IsAn2ImportantTopic3InPython\"\n",
    "x=words(string)\n",
    "print(x)"
   ]
  },
  {
   "cell_type": "markdown",
   "id": "67e6ae24",
   "metadata": {},
   "source": [
    "Question 10- Use the github link below to read the data and create a dataframe. After creating the\n",
    "dataframe extract the first 6 letters of each country and store in the dataframe under a new column\n",
    "called first_five_letters."
   ]
  },
  {
   "cell_type": "code",
   "execution_count": 11,
   "id": "8e437c08",
   "metadata": {},
   "outputs": [
    {
     "data": {
      "text/html": [
       "<div>\n",
       "<style scoped>\n",
       "    .dataframe tbody tr th:only-of-type {\n",
       "        vertical-align: middle;\n",
       "    }\n",
       "\n",
       "    .dataframe tbody tr th {\n",
       "        vertical-align: top;\n",
       "    }\n",
       "\n",
       "    .dataframe thead th {\n",
       "        text-align: right;\n",
       "    }\n",
       "</style>\n",
       "<table border=\"1\" class=\"dataframe\">\n",
       "  <thead>\n",
       "    <tr style=\"text-align: right;\">\n",
       "      <th></th>\n",
       "      <th>Country</th>\n",
       "      <th>Region</th>\n",
       "      <th>Happiness Rank</th>\n",
       "      <th>Happiness Score</th>\n",
       "      <th>Standard Error</th>\n",
       "      <th>Economy (GDP per Capita)</th>\n",
       "      <th>Family</th>\n",
       "      <th>Health (Life Expectancy)</th>\n",
       "      <th>Freedom</th>\n",
       "      <th>Trust (Government Corruption)</th>\n",
       "      <th>Generosity</th>\n",
       "      <th>Dystopia Residual</th>\n",
       "    </tr>\n",
       "  </thead>\n",
       "  <tbody>\n",
       "    <tr>\n",
       "      <th>0</th>\n",
       "      <td>Switzerland</td>\n",
       "      <td>Western Europe</td>\n",
       "      <td>1</td>\n",
       "      <td>7.587</td>\n",
       "      <td>0.03411</td>\n",
       "      <td>1.39651</td>\n",
       "      <td>1.34951</td>\n",
       "      <td>0.94143</td>\n",
       "      <td>0.66557</td>\n",
       "      <td>0.41978</td>\n",
       "      <td>0.29678</td>\n",
       "      <td>2.51738</td>\n",
       "    </tr>\n",
       "    <tr>\n",
       "      <th>1</th>\n",
       "      <td>Iceland</td>\n",
       "      <td>Western Europe</td>\n",
       "      <td>2</td>\n",
       "      <td>7.561</td>\n",
       "      <td>0.04884</td>\n",
       "      <td>1.30232</td>\n",
       "      <td>1.40223</td>\n",
       "      <td>0.94784</td>\n",
       "      <td>0.62877</td>\n",
       "      <td>0.14145</td>\n",
       "      <td>0.43630</td>\n",
       "      <td>2.70201</td>\n",
       "    </tr>\n",
       "    <tr>\n",
       "      <th>2</th>\n",
       "      <td>Denmark</td>\n",
       "      <td>Western Europe</td>\n",
       "      <td>3</td>\n",
       "      <td>7.527</td>\n",
       "      <td>0.03328</td>\n",
       "      <td>1.32548</td>\n",
       "      <td>1.36058</td>\n",
       "      <td>0.87464</td>\n",
       "      <td>0.64938</td>\n",
       "      <td>0.48357</td>\n",
       "      <td>0.34139</td>\n",
       "      <td>2.49204</td>\n",
       "    </tr>\n",
       "    <tr>\n",
       "      <th>3</th>\n",
       "      <td>Norway</td>\n",
       "      <td>Western Europe</td>\n",
       "      <td>4</td>\n",
       "      <td>7.522</td>\n",
       "      <td>0.03880</td>\n",
       "      <td>1.45900</td>\n",
       "      <td>1.33095</td>\n",
       "      <td>0.88521</td>\n",
       "      <td>0.66973</td>\n",
       "      <td>0.36503</td>\n",
       "      <td>0.34699</td>\n",
       "      <td>2.46531</td>\n",
       "    </tr>\n",
       "    <tr>\n",
       "      <th>4</th>\n",
       "      <td>Canada</td>\n",
       "      <td>North America</td>\n",
       "      <td>5</td>\n",
       "      <td>7.427</td>\n",
       "      <td>0.03553</td>\n",
       "      <td>1.32629</td>\n",
       "      <td>1.32261</td>\n",
       "      <td>0.90563</td>\n",
       "      <td>0.63297</td>\n",
       "      <td>0.32957</td>\n",
       "      <td>0.45811</td>\n",
       "      <td>2.45176</td>\n",
       "    </tr>\n",
       "    <tr>\n",
       "      <th>...</th>\n",
       "      <td>...</td>\n",
       "      <td>...</td>\n",
       "      <td>...</td>\n",
       "      <td>...</td>\n",
       "      <td>...</td>\n",
       "      <td>...</td>\n",
       "      <td>...</td>\n",
       "      <td>...</td>\n",
       "      <td>...</td>\n",
       "      <td>...</td>\n",
       "      <td>...</td>\n",
       "      <td>...</td>\n",
       "    </tr>\n",
       "    <tr>\n",
       "      <th>153</th>\n",
       "      <td>Rwanda</td>\n",
       "      <td>Sub-Saharan Africa</td>\n",
       "      <td>154</td>\n",
       "      <td>3.465</td>\n",
       "      <td>0.03464</td>\n",
       "      <td>0.22208</td>\n",
       "      <td>0.77370</td>\n",
       "      <td>0.42864</td>\n",
       "      <td>0.59201</td>\n",
       "      <td>0.55191</td>\n",
       "      <td>0.22628</td>\n",
       "      <td>0.67042</td>\n",
       "    </tr>\n",
       "    <tr>\n",
       "      <th>154</th>\n",
       "      <td>Benin</td>\n",
       "      <td>Sub-Saharan Africa</td>\n",
       "      <td>155</td>\n",
       "      <td>3.340</td>\n",
       "      <td>0.03656</td>\n",
       "      <td>0.28665</td>\n",
       "      <td>0.35386</td>\n",
       "      <td>0.31910</td>\n",
       "      <td>0.48450</td>\n",
       "      <td>0.08010</td>\n",
       "      <td>0.18260</td>\n",
       "      <td>1.63328</td>\n",
       "    </tr>\n",
       "    <tr>\n",
       "      <th>155</th>\n",
       "      <td>Syria</td>\n",
       "      <td>Middle East and Northern Africa</td>\n",
       "      <td>156</td>\n",
       "      <td>3.006</td>\n",
       "      <td>0.05015</td>\n",
       "      <td>0.66320</td>\n",
       "      <td>0.47489</td>\n",
       "      <td>0.72193</td>\n",
       "      <td>0.15684</td>\n",
       "      <td>0.18906</td>\n",
       "      <td>0.47179</td>\n",
       "      <td>0.32858</td>\n",
       "    </tr>\n",
       "    <tr>\n",
       "      <th>156</th>\n",
       "      <td>Burundi</td>\n",
       "      <td>Sub-Saharan Africa</td>\n",
       "      <td>157</td>\n",
       "      <td>2.905</td>\n",
       "      <td>0.08658</td>\n",
       "      <td>0.01530</td>\n",
       "      <td>0.41587</td>\n",
       "      <td>0.22396</td>\n",
       "      <td>0.11850</td>\n",
       "      <td>0.10062</td>\n",
       "      <td>0.19727</td>\n",
       "      <td>1.83302</td>\n",
       "    </tr>\n",
       "    <tr>\n",
       "      <th>157</th>\n",
       "      <td>Togo</td>\n",
       "      <td>Sub-Saharan Africa</td>\n",
       "      <td>158</td>\n",
       "      <td>2.839</td>\n",
       "      <td>0.06727</td>\n",
       "      <td>0.20868</td>\n",
       "      <td>0.13995</td>\n",
       "      <td>0.28443</td>\n",
       "      <td>0.36453</td>\n",
       "      <td>0.10731</td>\n",
       "      <td>0.16681</td>\n",
       "      <td>1.56726</td>\n",
       "    </tr>\n",
       "  </tbody>\n",
       "</table>\n",
       "<p>158 rows × 12 columns</p>\n",
       "</div>"
      ],
      "text/plain": [
       "         Country                           Region  Happiness Rank  \\\n",
       "0    Switzerland                   Western Europe               1   \n",
       "1        Iceland                   Western Europe               2   \n",
       "2        Denmark                   Western Europe               3   \n",
       "3         Norway                   Western Europe               4   \n",
       "4         Canada                    North America               5   \n",
       "..           ...                              ...             ...   \n",
       "153       Rwanda               Sub-Saharan Africa             154   \n",
       "154        Benin               Sub-Saharan Africa             155   \n",
       "155        Syria  Middle East and Northern Africa             156   \n",
       "156      Burundi               Sub-Saharan Africa             157   \n",
       "157         Togo               Sub-Saharan Africa             158   \n",
       "\n",
       "     Happiness Score  Standard Error  Economy (GDP per Capita)   Family  \\\n",
       "0              7.587         0.03411                   1.39651  1.34951   \n",
       "1              7.561         0.04884                   1.30232  1.40223   \n",
       "2              7.527         0.03328                   1.32548  1.36058   \n",
       "3              7.522         0.03880                   1.45900  1.33095   \n",
       "4              7.427         0.03553                   1.32629  1.32261   \n",
       "..               ...             ...                       ...      ...   \n",
       "153            3.465         0.03464                   0.22208  0.77370   \n",
       "154            3.340         0.03656                   0.28665  0.35386   \n",
       "155            3.006         0.05015                   0.66320  0.47489   \n",
       "156            2.905         0.08658                   0.01530  0.41587   \n",
       "157            2.839         0.06727                   0.20868  0.13995   \n",
       "\n",
       "     Health (Life Expectancy)  Freedom  Trust (Government Corruption)  \\\n",
       "0                     0.94143  0.66557                        0.41978   \n",
       "1                     0.94784  0.62877                        0.14145   \n",
       "2                     0.87464  0.64938                        0.48357   \n",
       "3                     0.88521  0.66973                        0.36503   \n",
       "4                     0.90563  0.63297                        0.32957   \n",
       "..                        ...      ...                            ...   \n",
       "153                   0.42864  0.59201                        0.55191   \n",
       "154                   0.31910  0.48450                        0.08010   \n",
       "155                   0.72193  0.15684                        0.18906   \n",
       "156                   0.22396  0.11850                        0.10062   \n",
       "157                   0.28443  0.36453                        0.10731   \n",
       "\n",
       "     Generosity  Dystopia Residual  \n",
       "0       0.29678            2.51738  \n",
       "1       0.43630            2.70201  \n",
       "2       0.34139            2.49204  \n",
       "3       0.34699            2.46531  \n",
       "4       0.45811            2.45176  \n",
       "..          ...                ...  \n",
       "153     0.22628            0.67042  \n",
       "154     0.18260            1.63328  \n",
       "155     0.47179            0.32858  \n",
       "156     0.19727            1.83302  \n",
       "157     0.16681            1.56726  \n",
       "\n",
       "[158 rows x 12 columns]"
      ]
     },
     "execution_count": 11,
     "metadata": {},
     "output_type": "execute_result"
    }
   ],
   "source": [
    "# reading the data and creating the DataFrame\n",
    "import pandas as pd\n",
    "data=pd.read_csv('https://raw.githubusercontent.com/dsrscientist/DSData/master/happiness_score_dataset.csv')\n",
    "pd.DataFrame(data)"
   ]
  },
  {
   "cell_type": "code",
   "execution_count": 12,
   "id": "24751ccf",
   "metadata": {},
   "outputs": [
    {
     "data": {
      "text/html": [
       "<div>\n",
       "<style scoped>\n",
       "    .dataframe tbody tr th:only-of-type {\n",
       "        vertical-align: middle;\n",
       "    }\n",
       "\n",
       "    .dataframe tbody tr th {\n",
       "        vertical-align: top;\n",
       "    }\n",
       "\n",
       "    .dataframe thead th {\n",
       "        text-align: right;\n",
       "    }\n",
       "</style>\n",
       "<table border=\"1\" class=\"dataframe\">\n",
       "  <thead>\n",
       "    <tr style=\"text-align: right;\">\n",
       "      <th></th>\n",
       "      <th>Country</th>\n",
       "      <th>Region</th>\n",
       "      <th>Happiness Rank</th>\n",
       "      <th>Happiness Score</th>\n",
       "      <th>Standard Error</th>\n",
       "      <th>Economy (GDP per Capita)</th>\n",
       "      <th>Family</th>\n",
       "      <th>Health (Life Expectancy)</th>\n",
       "      <th>Freedom</th>\n",
       "      <th>Trust (Government Corruption)</th>\n",
       "      <th>Generosity</th>\n",
       "      <th>Dystopia Residual</th>\n",
       "      <th>first_five_letters</th>\n",
       "    </tr>\n",
       "  </thead>\n",
       "  <tbody>\n",
       "    <tr>\n",
       "      <th>0</th>\n",
       "      <td>Switzerland</td>\n",
       "      <td>Western Europe</td>\n",
       "      <td>1</td>\n",
       "      <td>7.587</td>\n",
       "      <td>0.03411</td>\n",
       "      <td>1.39651</td>\n",
       "      <td>1.34951</td>\n",
       "      <td>0.94143</td>\n",
       "      <td>0.66557</td>\n",
       "      <td>0.41978</td>\n",
       "      <td>0.29678</td>\n",
       "      <td>2.51738</td>\n",
       "      <td>Switze</td>\n",
       "    </tr>\n",
       "    <tr>\n",
       "      <th>1</th>\n",
       "      <td>Iceland</td>\n",
       "      <td>Western Europe</td>\n",
       "      <td>2</td>\n",
       "      <td>7.561</td>\n",
       "      <td>0.04884</td>\n",
       "      <td>1.30232</td>\n",
       "      <td>1.40223</td>\n",
       "      <td>0.94784</td>\n",
       "      <td>0.62877</td>\n",
       "      <td>0.14145</td>\n",
       "      <td>0.43630</td>\n",
       "      <td>2.70201</td>\n",
       "      <td>Icelan</td>\n",
       "    </tr>\n",
       "    <tr>\n",
       "      <th>2</th>\n",
       "      <td>Denmark</td>\n",
       "      <td>Western Europe</td>\n",
       "      <td>3</td>\n",
       "      <td>7.527</td>\n",
       "      <td>0.03328</td>\n",
       "      <td>1.32548</td>\n",
       "      <td>1.36058</td>\n",
       "      <td>0.87464</td>\n",
       "      <td>0.64938</td>\n",
       "      <td>0.48357</td>\n",
       "      <td>0.34139</td>\n",
       "      <td>2.49204</td>\n",
       "      <td>Denmar</td>\n",
       "    </tr>\n",
       "    <tr>\n",
       "      <th>3</th>\n",
       "      <td>Norway</td>\n",
       "      <td>Western Europe</td>\n",
       "      <td>4</td>\n",
       "      <td>7.522</td>\n",
       "      <td>0.03880</td>\n",
       "      <td>1.45900</td>\n",
       "      <td>1.33095</td>\n",
       "      <td>0.88521</td>\n",
       "      <td>0.66973</td>\n",
       "      <td>0.36503</td>\n",
       "      <td>0.34699</td>\n",
       "      <td>2.46531</td>\n",
       "      <td>Norway</td>\n",
       "    </tr>\n",
       "    <tr>\n",
       "      <th>4</th>\n",
       "      <td>Canada</td>\n",
       "      <td>North America</td>\n",
       "      <td>5</td>\n",
       "      <td>7.427</td>\n",
       "      <td>0.03553</td>\n",
       "      <td>1.32629</td>\n",
       "      <td>1.32261</td>\n",
       "      <td>0.90563</td>\n",
       "      <td>0.63297</td>\n",
       "      <td>0.32957</td>\n",
       "      <td>0.45811</td>\n",
       "      <td>2.45176</td>\n",
       "      <td>Canada</td>\n",
       "    </tr>\n",
       "    <tr>\n",
       "      <th>5</th>\n",
       "      <td>Finland</td>\n",
       "      <td>Western Europe</td>\n",
       "      <td>6</td>\n",
       "      <td>7.406</td>\n",
       "      <td>0.03140</td>\n",
       "      <td>1.29025</td>\n",
       "      <td>1.31826</td>\n",
       "      <td>0.88911</td>\n",
       "      <td>0.64169</td>\n",
       "      <td>0.41372</td>\n",
       "      <td>0.23351</td>\n",
       "      <td>2.61955</td>\n",
       "      <td>Finlan</td>\n",
       "    </tr>\n",
       "    <tr>\n",
       "      <th>6</th>\n",
       "      <td>Netherlands</td>\n",
       "      <td>Western Europe</td>\n",
       "      <td>7</td>\n",
       "      <td>7.378</td>\n",
       "      <td>0.02799</td>\n",
       "      <td>1.32944</td>\n",
       "      <td>1.28017</td>\n",
       "      <td>0.89284</td>\n",
       "      <td>0.61576</td>\n",
       "      <td>0.31814</td>\n",
       "      <td>0.47610</td>\n",
       "      <td>2.46570</td>\n",
       "      <td>Nether</td>\n",
       "    </tr>\n",
       "    <tr>\n",
       "      <th>7</th>\n",
       "      <td>Sweden</td>\n",
       "      <td>Western Europe</td>\n",
       "      <td>8</td>\n",
       "      <td>7.364</td>\n",
       "      <td>0.03157</td>\n",
       "      <td>1.33171</td>\n",
       "      <td>1.28907</td>\n",
       "      <td>0.91087</td>\n",
       "      <td>0.65980</td>\n",
       "      <td>0.43844</td>\n",
       "      <td>0.36262</td>\n",
       "      <td>2.37119</td>\n",
       "      <td>Sweden</td>\n",
       "    </tr>\n",
       "    <tr>\n",
       "      <th>8</th>\n",
       "      <td>New Zealand</td>\n",
       "      <td>Australia and New Zealand</td>\n",
       "      <td>9</td>\n",
       "      <td>7.286</td>\n",
       "      <td>0.03371</td>\n",
       "      <td>1.25018</td>\n",
       "      <td>1.31967</td>\n",
       "      <td>0.90837</td>\n",
       "      <td>0.63938</td>\n",
       "      <td>0.42922</td>\n",
       "      <td>0.47501</td>\n",
       "      <td>2.26425</td>\n",
       "      <td>New Ze</td>\n",
       "    </tr>\n",
       "    <tr>\n",
       "      <th>9</th>\n",
       "      <td>Australia</td>\n",
       "      <td>Australia and New Zealand</td>\n",
       "      <td>10</td>\n",
       "      <td>7.284</td>\n",
       "      <td>0.04083</td>\n",
       "      <td>1.33358</td>\n",
       "      <td>1.30923</td>\n",
       "      <td>0.93156</td>\n",
       "      <td>0.65124</td>\n",
       "      <td>0.35637</td>\n",
       "      <td>0.43562</td>\n",
       "      <td>2.26646</td>\n",
       "      <td>Austra</td>\n",
       "    </tr>\n",
       "    <tr>\n",
       "      <th>10</th>\n",
       "      <td>Israel</td>\n",
       "      <td>Middle East and Northern Africa</td>\n",
       "      <td>11</td>\n",
       "      <td>7.278</td>\n",
       "      <td>0.03470</td>\n",
       "      <td>1.22857</td>\n",
       "      <td>1.22393</td>\n",
       "      <td>0.91387</td>\n",
       "      <td>0.41319</td>\n",
       "      <td>0.07785</td>\n",
       "      <td>0.33172</td>\n",
       "      <td>3.08854</td>\n",
       "      <td>Israel</td>\n",
       "    </tr>\n",
       "    <tr>\n",
       "      <th>11</th>\n",
       "      <td>Costa Rica</td>\n",
       "      <td>Latin America and Caribbean</td>\n",
       "      <td>12</td>\n",
       "      <td>7.226</td>\n",
       "      <td>0.04454</td>\n",
       "      <td>0.95578</td>\n",
       "      <td>1.23788</td>\n",
       "      <td>0.86027</td>\n",
       "      <td>0.63376</td>\n",
       "      <td>0.10583</td>\n",
       "      <td>0.25497</td>\n",
       "      <td>3.17728</td>\n",
       "      <td>Costa</td>\n",
       "    </tr>\n",
       "    <tr>\n",
       "      <th>12</th>\n",
       "      <td>Austria</td>\n",
       "      <td>Western Europe</td>\n",
       "      <td>13</td>\n",
       "      <td>7.200</td>\n",
       "      <td>0.03751</td>\n",
       "      <td>1.33723</td>\n",
       "      <td>1.29704</td>\n",
       "      <td>0.89042</td>\n",
       "      <td>0.62433</td>\n",
       "      <td>0.18676</td>\n",
       "      <td>0.33088</td>\n",
       "      <td>2.53320</td>\n",
       "      <td>Austri</td>\n",
       "    </tr>\n",
       "    <tr>\n",
       "      <th>13</th>\n",
       "      <td>Mexico</td>\n",
       "      <td>Latin America and Caribbean</td>\n",
       "      <td>14</td>\n",
       "      <td>7.187</td>\n",
       "      <td>0.04176</td>\n",
       "      <td>1.02054</td>\n",
       "      <td>0.91451</td>\n",
       "      <td>0.81444</td>\n",
       "      <td>0.48181</td>\n",
       "      <td>0.21312</td>\n",
       "      <td>0.14074</td>\n",
       "      <td>3.60214</td>\n",
       "      <td>Mexico</td>\n",
       "    </tr>\n",
       "    <tr>\n",
       "      <th>14</th>\n",
       "      <td>United States</td>\n",
       "      <td>North America</td>\n",
       "      <td>15</td>\n",
       "      <td>7.119</td>\n",
       "      <td>0.03839</td>\n",
       "      <td>1.39451</td>\n",
       "      <td>1.24711</td>\n",
       "      <td>0.86179</td>\n",
       "      <td>0.54604</td>\n",
       "      <td>0.15890</td>\n",
       "      <td>0.40105</td>\n",
       "      <td>2.51011</td>\n",
       "      <td>United</td>\n",
       "    </tr>\n",
       "    <tr>\n",
       "      <th>15</th>\n",
       "      <td>Brazil</td>\n",
       "      <td>Latin America and Caribbean</td>\n",
       "      <td>16</td>\n",
       "      <td>6.983</td>\n",
       "      <td>0.04076</td>\n",
       "      <td>0.98124</td>\n",
       "      <td>1.23287</td>\n",
       "      <td>0.69702</td>\n",
       "      <td>0.49049</td>\n",
       "      <td>0.17521</td>\n",
       "      <td>0.14574</td>\n",
       "      <td>3.26001</td>\n",
       "      <td>Brazil</td>\n",
       "    </tr>\n",
       "    <tr>\n",
       "      <th>16</th>\n",
       "      <td>Luxembourg</td>\n",
       "      <td>Western Europe</td>\n",
       "      <td>17</td>\n",
       "      <td>6.946</td>\n",
       "      <td>0.03499</td>\n",
       "      <td>1.56391</td>\n",
       "      <td>1.21963</td>\n",
       "      <td>0.91894</td>\n",
       "      <td>0.61583</td>\n",
       "      <td>0.37798</td>\n",
       "      <td>0.28034</td>\n",
       "      <td>1.96961</td>\n",
       "      <td>Luxemb</td>\n",
       "    </tr>\n",
       "    <tr>\n",
       "      <th>17</th>\n",
       "      <td>Ireland</td>\n",
       "      <td>Western Europe</td>\n",
       "      <td>18</td>\n",
       "      <td>6.940</td>\n",
       "      <td>0.03676</td>\n",
       "      <td>1.33596</td>\n",
       "      <td>1.36948</td>\n",
       "      <td>0.89533</td>\n",
       "      <td>0.61777</td>\n",
       "      <td>0.28703</td>\n",
       "      <td>0.45901</td>\n",
       "      <td>1.97570</td>\n",
       "      <td>Irelan</td>\n",
       "    </tr>\n",
       "    <tr>\n",
       "      <th>18</th>\n",
       "      <td>Belgium</td>\n",
       "      <td>Western Europe</td>\n",
       "      <td>19</td>\n",
       "      <td>6.937</td>\n",
       "      <td>0.03595</td>\n",
       "      <td>1.30782</td>\n",
       "      <td>1.28566</td>\n",
       "      <td>0.89667</td>\n",
       "      <td>0.58450</td>\n",
       "      <td>0.22540</td>\n",
       "      <td>0.22250</td>\n",
       "      <td>2.41484</td>\n",
       "      <td>Belgiu</td>\n",
       "    </tr>\n",
       "    <tr>\n",
       "      <th>19</th>\n",
       "      <td>United Arab Emirates</td>\n",
       "      <td>Middle East and Northern Africa</td>\n",
       "      <td>20</td>\n",
       "      <td>6.901</td>\n",
       "      <td>0.03729</td>\n",
       "      <td>1.42727</td>\n",
       "      <td>1.12575</td>\n",
       "      <td>0.80925</td>\n",
       "      <td>0.64157</td>\n",
       "      <td>0.38583</td>\n",
       "      <td>0.26428</td>\n",
       "      <td>2.24743</td>\n",
       "      <td>United</td>\n",
       "    </tr>\n",
       "  </tbody>\n",
       "</table>\n",
       "</div>"
      ],
      "text/plain": [
       "                 Country                           Region  Happiness Rank  \\\n",
       "0            Switzerland                   Western Europe               1   \n",
       "1                Iceland                   Western Europe               2   \n",
       "2                Denmark                   Western Europe               3   \n",
       "3                 Norway                   Western Europe               4   \n",
       "4                 Canada                    North America               5   \n",
       "5                Finland                   Western Europe               6   \n",
       "6            Netherlands                   Western Europe               7   \n",
       "7                 Sweden                   Western Europe               8   \n",
       "8            New Zealand        Australia and New Zealand               9   \n",
       "9              Australia        Australia and New Zealand              10   \n",
       "10                Israel  Middle East and Northern Africa              11   \n",
       "11            Costa Rica      Latin America and Caribbean              12   \n",
       "12               Austria                   Western Europe              13   \n",
       "13                Mexico      Latin America and Caribbean              14   \n",
       "14         United States                    North America              15   \n",
       "15                Brazil      Latin America and Caribbean              16   \n",
       "16            Luxembourg                   Western Europe              17   \n",
       "17               Ireland                   Western Europe              18   \n",
       "18               Belgium                   Western Europe              19   \n",
       "19  United Arab Emirates  Middle East and Northern Africa              20   \n",
       "\n",
       "    Happiness Score  Standard Error  Economy (GDP per Capita)   Family  \\\n",
       "0             7.587         0.03411                   1.39651  1.34951   \n",
       "1             7.561         0.04884                   1.30232  1.40223   \n",
       "2             7.527         0.03328                   1.32548  1.36058   \n",
       "3             7.522         0.03880                   1.45900  1.33095   \n",
       "4             7.427         0.03553                   1.32629  1.32261   \n",
       "5             7.406         0.03140                   1.29025  1.31826   \n",
       "6             7.378         0.02799                   1.32944  1.28017   \n",
       "7             7.364         0.03157                   1.33171  1.28907   \n",
       "8             7.286         0.03371                   1.25018  1.31967   \n",
       "9             7.284         0.04083                   1.33358  1.30923   \n",
       "10            7.278         0.03470                   1.22857  1.22393   \n",
       "11            7.226         0.04454                   0.95578  1.23788   \n",
       "12            7.200         0.03751                   1.33723  1.29704   \n",
       "13            7.187         0.04176                   1.02054  0.91451   \n",
       "14            7.119         0.03839                   1.39451  1.24711   \n",
       "15            6.983         0.04076                   0.98124  1.23287   \n",
       "16            6.946         0.03499                   1.56391  1.21963   \n",
       "17            6.940         0.03676                   1.33596  1.36948   \n",
       "18            6.937         0.03595                   1.30782  1.28566   \n",
       "19            6.901         0.03729                   1.42727  1.12575   \n",
       "\n",
       "    Health (Life Expectancy)  Freedom  Trust (Government Corruption)  \\\n",
       "0                    0.94143  0.66557                        0.41978   \n",
       "1                    0.94784  0.62877                        0.14145   \n",
       "2                    0.87464  0.64938                        0.48357   \n",
       "3                    0.88521  0.66973                        0.36503   \n",
       "4                    0.90563  0.63297                        0.32957   \n",
       "5                    0.88911  0.64169                        0.41372   \n",
       "6                    0.89284  0.61576                        0.31814   \n",
       "7                    0.91087  0.65980                        0.43844   \n",
       "8                    0.90837  0.63938                        0.42922   \n",
       "9                    0.93156  0.65124                        0.35637   \n",
       "10                   0.91387  0.41319                        0.07785   \n",
       "11                   0.86027  0.63376                        0.10583   \n",
       "12                   0.89042  0.62433                        0.18676   \n",
       "13                   0.81444  0.48181                        0.21312   \n",
       "14                   0.86179  0.54604                        0.15890   \n",
       "15                   0.69702  0.49049                        0.17521   \n",
       "16                   0.91894  0.61583                        0.37798   \n",
       "17                   0.89533  0.61777                        0.28703   \n",
       "18                   0.89667  0.58450                        0.22540   \n",
       "19                   0.80925  0.64157                        0.38583   \n",
       "\n",
       "    Generosity  Dystopia Residual first_five_letters  \n",
       "0      0.29678            2.51738             Switze  \n",
       "1      0.43630            2.70201             Icelan  \n",
       "2      0.34139            2.49204             Denmar  \n",
       "3      0.34699            2.46531             Norway  \n",
       "4      0.45811            2.45176             Canada  \n",
       "5      0.23351            2.61955             Finlan  \n",
       "6      0.47610            2.46570             Nether  \n",
       "7      0.36262            2.37119             Sweden  \n",
       "8      0.47501            2.26425             New Ze  \n",
       "9      0.43562            2.26646             Austra  \n",
       "10     0.33172            3.08854             Israel  \n",
       "11     0.25497            3.17728             Costa   \n",
       "12     0.33088            2.53320             Austri  \n",
       "13     0.14074            3.60214             Mexico  \n",
       "14     0.40105            2.51011             United  \n",
       "15     0.14574            3.26001             Brazil  \n",
       "16     0.28034            1.96961             Luxemb  \n",
       "17     0.45901            1.97570             Irelan  \n",
       "18     0.22250            2.41484             Belgiu  \n",
       "19     0.26428            2.24743             United  "
      ]
     },
     "execution_count": 12,
     "metadata": {},
     "output_type": "execute_result"
    }
   ],
   "source": [
    "# extracting the 1st 6 letters of country column by using applying and lambda function\n",
    "data['first_five_letters'] = data['Country'].apply(lambda x: x[0:6])\n",
    "data.head(20)"
   ]
  },
  {
   "cell_type": "markdown",
   "id": "f7d7ebb9",
   "metadata": {},
   "source": [
    "Question 11- Write a Python program to match a string that contains only upper and lowercase\n",
    "letters, numbers, and underscores."
   ]
  },
  {
   "cell_type": "code",
   "execution_count": 99,
   "id": "195b2ba5",
   "metadata": {},
   "outputs": [
    {
     "name": "stdout",
     "output_type": "stream",
     "text": [
      "correct!\n"
     ]
    }
   ],
   "source": [
    "def match(text):\n",
    "    pattern=r'^[a-zA-Z0-9_]+$'\n",
    "    if re.match(pattern,text):\n",
    "        print('correct!')\n",
    "    else:\n",
    "            print('incorrect')\n",
    "match ('Narender_modi2014')\n"
   ]
  },
  {
   "cell_type": "markdown",
   "id": "3a696db8",
   "metadata": {},
   "source": [
    "Question 12- Write a Python program where a string will start with a specific number."
   ]
  },
  {
   "cell_type": "code",
   "execution_count": 14,
   "id": "a18ef90a",
   "metadata": {},
   "outputs": [
    {
     "name": "stdout",
     "output_type": "stream",
     "text": [
      "match!\n"
     ]
    }
   ],
   "source": [
    "def specific_num(string,number):\n",
    "    if string.startswith(str(number)):\n",
    "        return True\n",
    "    else:\n",
    "        return False\n",
    "string='10.5 is the specific number '    \n",
    "number=10.5\n",
    "if specific_num(string,number):\n",
    "    print(\"match!\")\n",
    "else:\n",
    "    if specific_num(string,number):\n",
    "        print(\"no match!\")"
   ]
  },
  {
   "cell_type": "markdown",
   "id": "cbec9f87",
   "metadata": {},
   "source": [
    "Question 13- Write a Python program to remove leading zeros from an IP address"
   ]
  },
  {
   "cell_type": "code",
   "execution_count": 15,
   "id": "e8fe6276",
   "metadata": {},
   "outputs": [
    {
     "name": "stdout",
     "output_type": "stream",
     "text": [
      "243.1.230.2\n"
     ]
    }
   ],
   "source": [
    "def ip_add(ip_address):\n",
    "    leading_zero_ip='.'.join([str(int(i))for i in ip_address.split('.')])\n",
    "    return leading_zero_ip\n",
    "print(ip_add(\"243.001.230.002\"))"
   ]
  },
  {
   "cell_type": "markdown",
   "id": "dddafb51",
   "metadata": {},
   "source": [
    "Question 14- Write a regular expression in python to match a date string in the form of Month name\n",
    "followed by day number and year stored in a text file."
   ]
  },
  {
   "cell_type": "code",
   "execution_count": 16,
   "id": "3f3d1262",
   "metadata": {},
   "outputs": [
    {
     "name": "stdout",
     "output_type": "stream",
     "text": [
      "['August 15th 1947']\n"
     ]
    }
   ],
   "source": [
    "text_file = \"On August 15th 1947 that India was declared independent from British colonialism, and the reins of control were handed over to the leaders of the Country.\"\n",
    "\n",
    "pattern = r\"\\b([A-Z][a-z]+ \\d{1,2}(?:st|nd|rd|th)? \\d{4})\\b\"\n",
    "\n",
    "matches = re.findall(pattern, text_file)\n",
    "print(matches)"
   ]
  },
  {
   "cell_type": "markdown",
   "id": "dcf467af",
   "metadata": {},
   "source": [
    "Question 15- Write a Python program to search some literals strings in a string."
   ]
  },
  {
   "cell_type": "code",
   "execution_count": 17,
   "id": "96723ee0",
   "metadata": {},
   "outputs": [
    {
     "name": "stdout",
     "output_type": "stream",
     "text": [
      "{'horse': False, 'fox': True, 'dog': True}\n"
     ]
    }
   ],
   "source": [
    "def search(text, literals):\n",
    "    results = {}\n",
    "    for literal in literals:\n",
    "        results[literal] = literal in text\n",
    "    return results\n",
    "\n",
    "\n",
    "text = \"The quick brown fox jumps over the lazy dog.\"\n",
    "literals = [\"horse\", \"fox\", \"dog\"]\n",
    "\n",
    "results = search(text, literals)\n",
    "print(results)"
   ]
  },
  {
   "cell_type": "markdown",
   "id": "6889e29b",
   "metadata": {},
   "source": [
    "Question 16- Write a Python program to search a literals string in a string and also find the location\n",
    "within the original string where the pattern occurs"
   ]
  },
  {
   "cell_type": "code",
   "execution_count": 97,
   "id": "e4dd4119",
   "metadata": {},
   "outputs": [
    {
     "name": "stdout",
     "output_type": "stream",
     "text": [
      "Found \"fox\" in \"The quick brown fox jumps over the lazy dog.\" from 16 to 19 \n"
     ]
    }
   ],
   "source": [
    "pattern = 'fox'\n",
    "text = 'The quick brown fox jumps over the lazy dog.'\n",
    "match = re.search(pattern, text)\n",
    "x = match.start()\n",
    "y = match.end()\n",
    "print('Found \"%s\" in \"%s\" from %d to %d ' % \\\n",
    "(match.re.pattern, match.string, x, y))\n"
   ]
  },
  {
   "cell_type": "markdown",
   "id": "f0a62d96",
   "metadata": {},
   "source": [
    "Question 17- Write a Python program to find the substrings within a string."
   ]
  },
  {
   "cell_type": "code",
   "execution_count": null,
   "id": "934e3d3c",
   "metadata": {},
   "outputs": [],
   "source": [
    "pattern = 'exercises'\n",
    "text = \"Python exercises, PHP exercises, C# exercises\"\n",
    "for match in re.findall(pattern, text):\n",
    "    print('Found \"%s\"' % match)"
   ]
  },
  {
   "cell_type": "markdown",
   "id": "9a8f476c",
   "metadata": {},
   "source": [
    "Question 18- Write a Python program to find the occurrence and position of the substrings within a\n",
    "string."
   ]
  },
  {
   "cell_type": "code",
   "execution_count": null,
   "id": "95367a4d",
   "metadata": {},
   "outputs": [],
   "source": [
    "text=\"muscel building, construct building, reation building\"\n",
    "pattern='building'\n",
    "for match in re.finditer(pattern,text):\n",
    "    s=match.start()\n",
    "    e=match.end()\n",
    "    print('Found \"%s\" at %d:%d' % (text[s:e],s, e))"
   ]
  },
  {
   "cell_type": "markdown",
   "id": "adfe769b",
   "metadata": {},
   "source": [
    "Question 19- Write a Python program to convert a date of yyyy-mm-dd format to dd-mm-yyyy\n",
    "format."
   ]
  },
  {
   "cell_type": "code",
   "execution_count": null,
   "id": "741f5b71",
   "metadata": {},
   "outputs": [],
   "source": [
    "def date(formats):\n",
    "    return re.sub(r'(\\d{4})-(\\d{1,2})-(\\d{1,2})','\\\\3-\\\\2-\\\\1',formats)\n",
    "formats1='2002-09-06'\n",
    "formats2='2007-07-09'\n",
    "print('Formated Date(dd-mm-yyyy)- ',date(formats1))\n",
    "print('Formated Date(dd-mm-yyyy)- ',date(formats2))"
   ]
  },
  {
   "cell_type": "markdown",
   "id": "7abdf9e4",
   "metadata": {},
   "source": [
    "Question 20- Create a function in python to find all decimal numbers with a precision of 1 or 2 in a\n",
    "string. The use of the re.compile() method is mandatory."
   ]
  },
  {
   "cell_type": "code",
   "execution_count": null,
   "id": "e56f3644",
   "metadata": {},
   "outputs": [],
   "source": [
    "Sample_Text= \"01.12 0132.123 2.31875 145.8 3.01 27.25 0.25\"\n",
    "def decimal(number):\n",
    "    deci_num=re.compile(r\"\\b([0-9]+\\.[0-9]{1,2})\\b\")\n",
    "    result=deci_num.findall(Sample_Text)\n",
    "    print(result)\n",
    "print(decimal(Sample_Text))"
   ]
  },
  {
   "cell_type": "markdown",
   "id": "68a4b140",
   "metadata": {},
   "source": [
    "Question 21- Write a Python program to separate and print the numbers and their position of a given string."
   ]
  },
  {
   "cell_type": "code",
   "execution_count": 19,
   "id": "753c3edd",
   "metadata": {},
   "outputs": [
    {
     "name": "stdout",
     "output_type": "stream",
     "text": [
      "25000\n",
      "number position: 21\n",
      "30000\n",
      "number position: 64\n"
     ]
    }
   ],
   "source": [
    "text=\"ravi bougth a tv at ₹25000 but the initial price of the tv was ₹30000.\"\n",
    "\n",
    "for num in re.finditer(\"\\d+\",text):\n",
    "    print(num.group(0))\n",
    "    print('number position:',num.start())"
   ]
  },
  {
   "cell_type": "markdown",
   "id": "d2e8d915",
   "metadata": {},
   "source": [
    "Question 22- Write a regular expression in python program to extract maximum/largest numeric\n",
    "value from a string."
   ]
  },
  {
   "cell_type": "code",
   "execution_count": 22,
   "id": "b3881534",
   "metadata": {},
   "outputs": [
    {
     "name": "stdout",
     "output_type": "stream",
     "text": [
      "['947', '896', '926', '524', '734', '950', '642']\n",
      "output : 950\n"
     ]
    }
   ],
   "source": [
    "sample_text=\"My marks in each semester are: 947, 896, 926, 524, 734, 950, 642\"\n",
    "numbers=re.findall('\\d+',sample_text)\n",
    "print(numbers)\n",
    "\n",
    "numbers=map (int,numbers)\n",
    "print(\"output :\",max(numbers))"
   ]
  },
  {
   "cell_type": "markdown",
   "id": "2570238d",
   "metadata": {},
   "source": [
    "Question 23- Create a function in python to insert spaces between words starting with capital\n",
    "letters."
   ]
  },
  {
   "cell_type": "code",
   "execution_count": 24,
   "id": "5b649b85",
   "metadata": {},
   "outputs": [
    {
     "name": "stdout",
     "output_type": "stream",
     "text": [
      "“ Regular Expression Is An Important Topic In Python\n"
     ]
    }
   ],
   "source": [
    "def gap(spaces):\n",
    "    pattern=r'([A-Z]+)'\n",
    "    result=re.sub(pattern,r' \\1',spaces)\n",
    "    return result\n",
    "spaces=\"“RegularExpressionIsAnImportantTopicInPython\"\n",
    "output=gap(spaces)\n",
    "print(output)"
   ]
  },
  {
   "cell_type": "markdown",
   "id": "db03223a",
   "metadata": {},
   "source": [
    "Question 24- Python regex to find sequences of one upper case letter followed by lower case letters"
   ]
  },
  {
   "cell_type": "code",
   "execution_count": 68,
   "id": "f98c919e",
   "metadata": {},
   "outputs": [
    {
     "name": "stdout",
     "output_type": "stream",
     "text": [
      "Correct\n",
      "Incorrect\n"
     ]
    }
   ],
   "source": [
    "def upper(lower):\n",
    "    pattern = '[A-Z][a-z]*$'\n",
    "    if re.search(pattern, lower):\n",
    "        return ('Correct')\n",
    "    else:\n",
    "        return ('Incorrect')\n",
    "\n",
    "print(upper('RegularExpression'))\n",
    "print(upper('Yours welcome'))"
   ]
  },
  {
   "cell_type": "markdown",
   "id": "21836ece",
   "metadata": {},
   "source": [
    "Question 25- Write a Python program to remove continuous duplicate words from Sentence using\n",
    "Regular Expression."
   ]
  },
  {
   "cell_type": "code",
   "execution_count": 70,
   "id": "0fd61d3f",
   "metadata": {},
   "outputs": [
    {
     "name": "stdout",
     "output_type": "stream",
     "text": [
      "Hello hello world\n"
     ]
    }
   ],
   "source": [
    "sample_text=\"Hello hello world world\"\n",
    "pattern=r'\\b(\\w+)(?:\\W+\\1\\b)+'\n",
    "output=re.sub(pattern,r'\\1',sample_text)\n",
    "print(output)"
   ]
  },
  {
   "cell_type": "markdown",
   "id": "10ac88d7",
   "metadata": {},
   "source": [
    "Question 26- Write a python program using RegEx to accept string ending with alphanumeric\n",
    "character."
   ]
  },
  {
   "cell_type": "code",
   "execution_count": 85,
   "id": "c56877a3",
   "metadata": {},
   "outputs": [
    {
     "name": "stdout",
     "output_type": "stream",
     "text": [
      "This is alphanumeric character\n"
     ]
    }
   ],
   "source": [
    "def regex(string):\n",
    "    pattern=r'[A-Za-z0-9]$'\n",
    "    if re.search(pattern,string):\n",
    "        print(\"This is alphanumeric character\")\n",
    "    else:\n",
    "        print(\"this is not a alphanumeric character\")\n",
    "regex('Helloworld123')"
   ]
  },
  {
   "cell_type": "markdown",
   "id": "e19eecfd",
   "metadata": {},
   "source": [
    "Question 27-Write a python program using RegEx to extract the hashtags."
   ]
  },
  {
   "cell_type": "code",
   "execution_count": 91,
   "id": "64706007",
   "metadata": {},
   "outputs": [
    {
     "name": "stdout",
     "output_type": "stream",
     "text": [
      "full_text:\n",
      " RT @kapil_kausik: #Doltiwal I mean #xyzabc is \"hurt\" by \n",
      "#Demonetization as the samehas rendered USELESS <ed><U+00A0><U+00BD><ed><U+00B1><U+0089> \"acquired funds\" No wo\n",
      "--------------------------------------------------\n",
      "Hastags_words:\n",
      " ['#Doltiwal', '#xyzabc', '#Demonetization']\n"
     ]
    }
   ],
   "source": [
    "sample_text=\"\"\"RT @kapil_kausik: #Doltiwal I mean #xyzabc is \"hurt\" by \n",
    "#Demonetization as the samehas rendered USELESS <ed><U+00A0><U+00BD><ed><U+00B1><U+0089> \"acquired funds\" No wo\"\"\"\n",
    "pattern=r\"#\\w+\"\n",
    "result=re.findall(pattern,sample_text)\n",
    "print('full_text:\\n',sample_text)\n",
    "print('-'*50)\n",
    "print('Hastags_words:\\n',result)"
   ]
  },
  {
   "cell_type": "markdown",
   "id": "7f5093f9",
   "metadata": {},
   "source": [
    "Question 28- Write a python program using RegEx to remove &lt;U+..&gt; like symbols"
   ]
  },
  {
   "cell_type": "code",
   "execution_count": 94,
   "id": "cbb5a186",
   "metadata": {},
   "outputs": [
    {
     "name": "stdout",
     "output_type": "stream",
     "text": [
      "@Jags123456 Bharat band on 28??<ed><ed>Those who are protesting #demonetization are all different party leaders\n"
     ]
    }
   ],
   "source": [
    "text= \"@Jags123456 Bharat band on 28??<ed><U+00A0><U+00BD><ed><U+00B8><U+0082>Those who are protesting #demonetization are all different party leaders\"\n",
    "pattern=r'<U\\+[A-Z0-9]+>'\n",
    "result=re.sub(pattern,'',text)\n",
    "print(result)"
   ]
  },
  {
   "cell_type": "markdown",
   "id": "f78177cc",
   "metadata": {},
   "source": [
    "Question 29- Write a python program to extract dates from the text stored in the text file."
   ]
  },
  {
   "cell_type": "code",
   "execution_count": 102,
   "id": "d5f4cde9",
   "metadata": {},
   "outputs": [
    {
     "name": "stdout",
     "output_type": "stream",
     "text": [
      "Text: \n",
      " Ron was born on 12-09-1992 and he was admitted to school 15-12-1999.\n",
      "Date: \n",
      " ['12-09-1992', '15-12-1999']\n"
     ]
    }
   ],
   "source": [
    "file=\"Ron was born on 12-09-1992 and he was admitted to school 15-12-1999.\"\n",
    "pattern=r'\\d{2}-\\d{2}-\\d{4}'\n",
    "result=re.findall(pattern,file)\n",
    "print('Text: \\n',file)\n",
    "print('Date: \\n', result)"
   ]
  },
  {
   "cell_type": "markdown",
   "id": "0054a727",
   "metadata": {},
   "source": [
    "Question 30- Create a function in python to remove all words from a string of length between 2 and\n",
    "4."
   ]
  },
  {
   "cell_type": "code",
   "execution_count": 111,
   "id": "7d06298b",
   "metadata": {},
   "outputs": [
    {
     "name": "stdout",
     "output_type": "stream",
     "text": [
      "The following example creates an ArrayList with a capacity of 50 elements. 4 elements are then added to the ArrayList and the ArrayList is trimmed accordingly.\n",
      "output:\n",
      "  following example creates  ArrayList  a capacity   elements. 4 elements   added   ArrayList   ArrayList  trimmed accordingly.\n"
     ]
    }
   ],
   "source": [
    "\n",
    "def words(remove):\n",
    "    pattern=r'\\b\\w{2,4}\\b'\n",
    "    result=re.sub(pattern,'',remove)\n",
    "    return result\n",
    "remove= \"The following example creates an ArrayList with a capacity of 50 elements. 4 elements are then added to the ArrayList and the ArrayList is trimmed accordingly.\"\n",
    "output=words(remove)\n",
    "print(remove)\n",
    "\n",
    "print('output:\\n',output)"
   ]
  },
  {
   "cell_type": "code",
   "execution_count": null,
   "id": "013d888b",
   "metadata": {},
   "outputs": [],
   "source": []
  }
 ],
 "metadata": {
  "kernelspec": {
   "display_name": "Python 3 (ipykernel)",
   "language": "python",
   "name": "python3"
  },
  "language_info": {
   "codemirror_mode": {
    "name": "ipython",
    "version": 3
   },
   "file_extension": ".py",
   "mimetype": "text/x-python",
   "name": "python",
   "nbconvert_exporter": "python",
   "pygments_lexer": "ipython3",
   "version": "3.11.5"
  }
 },
 "nbformat": 4,
 "nbformat_minor": 5
}
